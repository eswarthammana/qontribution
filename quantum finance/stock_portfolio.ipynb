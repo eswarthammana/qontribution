{
 "cells": [
  {
   "cell_type": "markdown",
   "id": "statutory-auditor",
   "metadata": {},
   "source": [
    "## Description: This program optimizes the stock portfolio"
   ]
  },
  {
   "cell_type": "code",
   "execution_count": 3,
   "id": "decimal-electron",
   "metadata": {},
   "outputs": [],
   "source": [
    "#import the libraries\n",
    "import numpy as np\n",
    "import pandas as pd\n",
    "from pandas_datareader import data\n",
    "import matplotlib.pyplot as plt\n",
    "%matplotlib inline"
   ]
  },
  {
   "cell_type": "code",
   "execution_count": 4,
   "id": "satellite-update",
   "metadata": {},
   "outputs": [],
   "source": [
    "# Read Data\n",
    "df = data.DataReader(['TSLA', 'FB'], 'yahoo', start='2018/01/01', end='2019/12/31')"
   ]
  },
  {
   "cell_type": "code",
   "execution_count": 5,
   "id": "rotary-dialogue",
   "metadata": {},
   "outputs": [
    {
     "data": {
      "text/html": [
       "<div>\n",
       "<style scoped>\n",
       "    .dataframe tbody tr th:only-of-type {\n",
       "        vertical-align: middle;\n",
       "    }\n",
       "\n",
       "    .dataframe tbody tr th {\n",
       "        vertical-align: top;\n",
       "    }\n",
       "\n",
       "    .dataframe thead tr th {\n",
       "        text-align: left;\n",
       "    }\n",
       "\n",
       "    .dataframe thead tr:last-of-type th {\n",
       "        text-align: right;\n",
       "    }\n",
       "</style>\n",
       "<table border=\"1\" class=\"dataframe\">\n",
       "  <thead>\n",
       "    <tr>\n",
       "      <th>Attributes</th>\n",
       "      <th colspan=\"2\" halign=\"left\">Adj Close</th>\n",
       "      <th colspan=\"2\" halign=\"left\">Close</th>\n",
       "      <th colspan=\"2\" halign=\"left\">High</th>\n",
       "      <th colspan=\"2\" halign=\"left\">Low</th>\n",
       "      <th colspan=\"2\" halign=\"left\">Open</th>\n",
       "      <th colspan=\"2\" halign=\"left\">Volume</th>\n",
       "    </tr>\n",
       "    <tr>\n",
       "      <th>Symbols</th>\n",
       "      <th>TSLA</th>\n",
       "      <th>FB</th>\n",
       "      <th>TSLA</th>\n",
       "      <th>FB</th>\n",
       "      <th>TSLA</th>\n",
       "      <th>FB</th>\n",
       "      <th>TSLA</th>\n",
       "      <th>FB</th>\n",
       "      <th>TSLA</th>\n",
       "      <th>FB</th>\n",
       "      <th>TSLA</th>\n",
       "      <th>FB</th>\n",
       "    </tr>\n",
       "    <tr>\n",
       "      <th>Date</th>\n",
       "      <th></th>\n",
       "      <th></th>\n",
       "      <th></th>\n",
       "      <th></th>\n",
       "      <th></th>\n",
       "      <th></th>\n",
       "      <th></th>\n",
       "      <th></th>\n",
       "      <th></th>\n",
       "      <th></th>\n",
       "      <th></th>\n",
       "      <th></th>\n",
       "    </tr>\n",
       "  </thead>\n",
       "  <tbody>\n",
       "    <tr>\n",
       "      <th>2018-01-02</th>\n",
       "      <td>64.106003</td>\n",
       "      <td>181.419998</td>\n",
       "      <td>64.106003</td>\n",
       "      <td>181.419998</td>\n",
       "      <td>64.421997</td>\n",
       "      <td>181.580002</td>\n",
       "      <td>62.200001</td>\n",
       "      <td>177.550003</td>\n",
       "      <td>62.400002</td>\n",
       "      <td>177.679993</td>\n",
       "      <td>21761000</td>\n",
       "      <td>18151900</td>\n",
       "    </tr>\n",
       "    <tr>\n",
       "      <th>2018-01-03</th>\n",
       "      <td>63.450001</td>\n",
       "      <td>184.669998</td>\n",
       "      <td>63.450001</td>\n",
       "      <td>184.669998</td>\n",
       "      <td>65.050003</td>\n",
       "      <td>184.779999</td>\n",
       "      <td>63.110001</td>\n",
       "      <td>181.330002</td>\n",
       "      <td>64.199997</td>\n",
       "      <td>181.880005</td>\n",
       "      <td>22607500</td>\n",
       "      <td>16886600</td>\n",
       "    </tr>\n",
       "    <tr>\n",
       "      <th>2018-01-04</th>\n",
       "      <td>62.924000</td>\n",
       "      <td>184.330002</td>\n",
       "      <td>62.924000</td>\n",
       "      <td>184.330002</td>\n",
       "      <td>63.709999</td>\n",
       "      <td>186.210007</td>\n",
       "      <td>61.136002</td>\n",
       "      <td>184.100006</td>\n",
       "      <td>62.574001</td>\n",
       "      <td>184.899994</td>\n",
       "      <td>49731500</td>\n",
       "      <td>13880900</td>\n",
       "    </tr>\n",
       "    <tr>\n",
       "      <th>2018-01-05</th>\n",
       "      <td>63.316002</td>\n",
       "      <td>186.850006</td>\n",
       "      <td>63.316002</td>\n",
       "      <td>186.850006</td>\n",
       "      <td>63.448002</td>\n",
       "      <td>186.899994</td>\n",
       "      <td>62.400002</td>\n",
       "      <td>184.929993</td>\n",
       "      <td>63.324001</td>\n",
       "      <td>185.589996</td>\n",
       "      <td>22956000</td>\n",
       "      <td>13574500</td>\n",
       "    </tr>\n",
       "    <tr>\n",
       "      <th>2018-01-08</th>\n",
       "      <td>67.281998</td>\n",
       "      <td>188.279999</td>\n",
       "      <td>67.281998</td>\n",
       "      <td>188.279999</td>\n",
       "      <td>67.403999</td>\n",
       "      <td>188.899994</td>\n",
       "      <td>63.099998</td>\n",
       "      <td>186.330002</td>\n",
       "      <td>63.200001</td>\n",
       "      <td>187.199997</td>\n",
       "      <td>49297000</td>\n",
       "      <td>17994700</td>\n",
       "    </tr>\n",
       "  </tbody>\n",
       "</table>\n",
       "</div>"
      ],
      "text/plain": [
       "Attributes  Adj Close                  Close                   High  \\\n",
       "Symbols          TSLA          FB       TSLA          FB       TSLA   \n",
       "Date                                                                  \n",
       "2018-01-02  64.106003  181.419998  64.106003  181.419998  64.421997   \n",
       "2018-01-03  63.450001  184.669998  63.450001  184.669998  65.050003   \n",
       "2018-01-04  62.924000  184.330002  62.924000  184.330002  63.709999   \n",
       "2018-01-05  63.316002  186.850006  63.316002  186.850006  63.448002   \n",
       "2018-01-08  67.281998  188.279999  67.281998  188.279999  67.403999   \n",
       "\n",
       "Attributes                    Low                   Open              \\\n",
       "Symbols             FB       TSLA          FB       TSLA          FB   \n",
       "Date                                                                   \n",
       "2018-01-02  181.580002  62.200001  177.550003  62.400002  177.679993   \n",
       "2018-01-03  184.779999  63.110001  181.330002  64.199997  181.880005   \n",
       "2018-01-04  186.210007  61.136002  184.100006  62.574001  184.899994   \n",
       "2018-01-05  186.899994  62.400002  184.929993  63.324001  185.589996   \n",
       "2018-01-08  188.899994  63.099998  186.330002  63.200001  187.199997   \n",
       "\n",
       "Attributes    Volume            \n",
       "Symbols         TSLA        FB  \n",
       "Date                            \n",
       "2018-01-02  21761000  18151900  \n",
       "2018-01-03  22607500  16886600  \n",
       "2018-01-04  49731500  13880900  \n",
       "2018-01-05  22956000  13574500  \n",
       "2018-01-08  49297000  17994700  "
      ]
     },
     "execution_count": 5,
     "metadata": {},
     "output_type": "execute_result"
    }
   ],
   "source": [
    "df.head()"
   ]
  },
  {
   "cell_type": "code",
   "execution_count": 6,
   "id": "boolean-recorder",
   "metadata": {},
   "outputs": [],
   "source": [
    "# Closing price\n",
    "df_adj_close = df['Adj Close']"
   ]
  },
  {
   "cell_type": "code",
   "execution_count": 9,
   "id": "cordless-infrared",
   "metadata": {
    "scrolled": true
   },
   "outputs": [
    {
     "data": {
      "text/html": [
       "<div>\n",
       "<style scoped>\n",
       "    .dataframe tbody tr th:only-of-type {\n",
       "        vertical-align: middle;\n",
       "    }\n",
       "\n",
       "    .dataframe tbody tr th {\n",
       "        vertical-align: top;\n",
       "    }\n",
       "\n",
       "    .dataframe thead th {\n",
       "        text-align: right;\n",
       "    }\n",
       "</style>\n",
       "<table border=\"1\" class=\"dataframe\">\n",
       "  <thead>\n",
       "    <tr style=\"text-align: right;\">\n",
       "      <th>Symbols</th>\n",
       "      <th>TSLA</th>\n",
       "      <th>FB</th>\n",
       "    </tr>\n",
       "    <tr>\n",
       "      <th>Date</th>\n",
       "      <th></th>\n",
       "      <th></th>\n",
       "    </tr>\n",
       "  </thead>\n",
       "  <tbody>\n",
       "    <tr>\n",
       "      <th>2018-01-02</th>\n",
       "      <td>64.106003</td>\n",
       "      <td>181.419998</td>\n",
       "    </tr>\n",
       "    <tr>\n",
       "      <th>2018-01-03</th>\n",
       "      <td>63.450001</td>\n",
       "      <td>184.669998</td>\n",
       "    </tr>\n",
       "    <tr>\n",
       "      <th>2018-01-04</th>\n",
       "      <td>62.924000</td>\n",
       "      <td>184.330002</td>\n",
       "    </tr>\n",
       "    <tr>\n",
       "      <th>2018-01-05</th>\n",
       "      <td>63.316002</td>\n",
       "      <td>186.850006</td>\n",
       "    </tr>\n",
       "    <tr>\n",
       "      <th>2018-01-08</th>\n",
       "      <td>67.281998</td>\n",
       "      <td>188.279999</td>\n",
       "    </tr>\n",
       "  </tbody>\n",
       "</table>\n",
       "</div>"
      ],
      "text/plain": [
       "Symbols          TSLA          FB\n",
       "Date                             \n",
       "2018-01-02  64.106003  181.419998\n",
       "2018-01-03  63.450001  184.669998\n",
       "2018-01-04  62.924000  184.330002\n",
       "2018-01-05  63.316002  186.850006\n",
       "2018-01-08  67.281998  188.279999"
      ]
     },
     "execution_count": 9,
     "metadata": {},
     "output_type": "execute_result"
    }
   ],
   "source": [
    "df_adj_close.head()"
   ]
  },
  {
   "cell_type": "markdown",
   "id": "overall-classification",
   "metadata": {},
   "source": [
    "## $S^{2} = \\frac{\\sum\\limits_{i = 1}^{N} \\left(x_{i} - \\bar{x}\\right)^{2}}{N - 1} \\\\ S^{2}\t=\t\\text{sample variance} \\\\ x_{i} = \\text{the value of the one observation} \\\\ \\bar{x} = \\text{the mean value of all observations} \\\\ N = \\text{the number of observations}$"
   ]
  },
  {
   "cell_type": "code",
   "execution_count": 10,
   "id": "scheduled-leave",
   "metadata": {},
   "outputs": [],
   "source": [
    "# Log of percentage change\n",
    "tesla = df_adj_close['TSLA'].pct_change().apply(lambda x: np.log(1+x))"
   ]
  },
  {
   "cell_type": "code",
   "execution_count": 11,
   "id": "fatal-workplace",
   "metadata": {},
   "outputs": [
    {
     "data": {
      "text/plain": [
       "Date\n",
       "2018-01-02         NaN\n",
       "2018-01-03   -0.010286\n",
       "2018-01-04   -0.008325\n",
       "2018-01-05    0.006210\n",
       "2018-01-08    0.060755\n",
       "Name: TSLA, dtype: float64"
      ]
     },
     "execution_count": 11,
     "metadata": {},
     "output_type": "execute_result"
    }
   ],
   "source": [
    "tesla.head()"
   ]
  },
  {
   "cell_type": "code",
   "execution_count": 12,
   "id": "later-piano",
   "metadata": {},
   "outputs": [
    {
     "data": {
      "text/plain": [
       "0.0011483734269334606"
      ]
     },
     "execution_count": 12,
     "metadata": {},
     "output_type": "execute_result"
    }
   ],
   "source": [
    "# Variance\n",
    "var_tesla = tesla.var()\n",
    "var_tesla"
   ]
  },
  {
   "cell_type": "code",
   "execution_count": 13,
   "id": "pressing-remains",
   "metadata": {},
   "outputs": [],
   "source": [
    "# Log of Percentage change for Facebook\n",
    "fb = df_adj_close['FB'].pct_change().apply(lambda x: np.log(1+x))"
   ]
  },
  {
   "cell_type": "code",
   "execution_count": 14,
   "id": "quick-fitting",
   "metadata": {
    "scrolled": true
   },
   "outputs": [
    {
     "data": {
      "text/plain": [
       "Date\n",
       "2018-01-02         NaN\n",
       "2018-01-03    0.017756\n",
       "2018-01-04   -0.001843\n",
       "2018-01-05    0.013579\n",
       "2018-01-08    0.007624\n",
       "Name: FB, dtype: float64"
      ]
     },
     "execution_count": 14,
     "metadata": {},
     "output_type": "execute_result"
    }
   ],
   "source": [
    "fb.head()"
   ]
  },
  {
   "cell_type": "code",
   "execution_count": 15,
   "id": "radio-court",
   "metadata": {},
   "outputs": [
    {
     "data": {
      "text/plain": [
       "0.0004569725841702254"
      ]
     },
     "execution_count": 15,
     "metadata": {},
     "output_type": "execute_result"
    }
   ],
   "source": [
    "# Variance\n",
    "var_fb = fb.var()\n",
    "var_fb"
   ]
  },
  {
   "cell_type": "markdown",
   "id": "current-moment",
   "metadata": {},
   "source": [
    "## $\\sigma_T = \\sqrt{\\frac{\\sum\\limits_{i = 1}^{N} \\left(x_{i} - \\bar{x}\\right)^{2}}{N - 1} \\cdot T} = \\sqrt{S^{2} \\cdot T} = \\sigma \\sqrt{T} \\\\ \\sigma_T = \\text{volatility over a time horizon} \\\\ \\sigma = \\text{standard deviation of returns} \\\\ T = \\text{number of periods in a time horizon} \\\\ x_{i} = \\text{the value of the one observation} \\\\ \\bar{x} = \\text{the mean value of all observations} \\\\ N = \\text{the number of observations}$"
   ]
  },
  {
   "cell_type": "code",
   "execution_count": 16,
   "id": "controversial-processing",
   "metadata": {},
   "outputs": [],
   "source": [
    "# Volatility\n",
    "#250 is used because there are 250 trading days in a year.\n",
    "tesla_vol = np.sqrt(var_tesla * 250)\n",
    "fb_vol = np.sqrt(var_fb * 250)"
   ]
  },
  {
   "cell_type": "code",
   "execution_count": 17,
   "id": "impaired-initial",
   "metadata": {},
   "outputs": [
    {
     "data": {
      "text/plain": [
       "(0.5358109337568292, 0.33799873674698305)"
      ]
     },
     "execution_count": 17,
     "metadata": {},
     "output_type": "execute_result"
    }
   ],
   "source": [
    "tesla_vol, fb_vol"
   ]
  },
  {
   "cell_type": "code",
   "execution_count": 18,
   "id": "medium-audit",
   "metadata": {},
   "outputs": [
    {
     "data": {
      "text/plain": [
       "<AxesSubplot:xlabel='Symbols'>"
      ]
     },
     "execution_count": 18,
     "metadata": {},
     "output_type": "execute_result"
    },
    {
     "data": {
      "image/png": "[encoded data removed]",
      "text/plain": [
       "<Figure size 432x288 with 1 Axes>"
      ]
     },
     "metadata": {
      "needs_background": "light"
     },
     "output_type": "display_data"
    }
   ],
   "source": [
    "# Volatility of both stocks\n",
    "df_adj_close.pct_change().apply(lambda x: np.log(1+x)).std().apply(lambda x: x*np.sqrt(250)).plot(kind='bar')"
   ]
  },
  {
   "cell_type": "markdown",
   "id": "structured-bhutan",
   "metadata": {},
   "source": [
    "## $cov_{x,y} = \\frac{\\sum\\limits_{i=1}^{N} \\left(x_{i} - \\bar{x}\\right) \\left(y_{i} - \\bar{y}\\right)}{N - 1} \\\\ cov_{x,y} = \\text{covariance between variable x and y} \\\\ x_{i} = \\text{data value of x} \\\\ y_{i} = \\text{data value of y} \\\\ \\bar{x} = \\text{mean of x} \\\\ \\bar{y} = \\text{mean of y} \\\\ N = \\text{number of data values}$"
   ]
  },
  {
   "cell_type": "code",
   "execution_count": 19,
   "id": "honey-murder",
   "metadata": {},
   "outputs": [],
   "source": [
    "# Log of Percentage change\n",
    "df_adj_close1 = df_adj_close.pct_change().apply(lambda x: np.log(1+x))"
   ]
  },
  {
   "cell_type": "code",
   "execution_count": 20,
   "id": "analyzed-funeral",
   "metadata": {
    "scrolled": true
   },
   "outputs": [
    {
     "data": {
      "text/html": [
       "<div>\n",
       "<style scoped>\n",
       "    .dataframe tbody tr th:only-of-type {\n",
       "        vertical-align: middle;\n",
       "    }\n",
       "\n",
       "    .dataframe tbody tr th {\n",
       "        vertical-align: top;\n",
       "    }\n",
       "\n",
       "    .dataframe thead th {\n",
       "        text-align: right;\n",
       "    }\n",
       "</style>\n",
       "<table border=\"1\" class=\"dataframe\">\n",
       "  <thead>\n",
       "    <tr style=\"text-align: right;\">\n",
       "      <th>Symbols</th>\n",
       "      <th>TSLA</th>\n",
       "      <th>FB</th>\n",
       "    </tr>\n",
       "    <tr>\n",
       "      <th>Date</th>\n",
       "      <th></th>\n",
       "      <th></th>\n",
       "    </tr>\n",
       "  </thead>\n",
       "  <tbody>\n",
       "    <tr>\n",
       "      <th>2018-01-02</th>\n",
       "      <td>NaN</td>\n",
       "      <td>NaN</td>\n",
       "    </tr>\n",
       "    <tr>\n",
       "      <th>2018-01-03</th>\n",
       "      <td>-0.010286</td>\n",
       "      <td>0.017756</td>\n",
       "    </tr>\n",
       "    <tr>\n",
       "      <th>2018-01-04</th>\n",
       "      <td>-0.008325</td>\n",
       "      <td>-0.001843</td>\n",
       "    </tr>\n",
       "    <tr>\n",
       "      <th>2018-01-05</th>\n",
       "      <td>0.006210</td>\n",
       "      <td>0.013579</td>\n",
       "    </tr>\n",
       "    <tr>\n",
       "      <th>2018-01-08</th>\n",
       "      <td>0.060755</td>\n",
       "      <td>0.007624</td>\n",
       "    </tr>\n",
       "  </tbody>\n",
       "</table>\n",
       "</div>"
      ],
      "text/plain": [
       "Symbols         TSLA        FB\n",
       "Date                          \n",
       "2018-01-02       NaN       NaN\n",
       "2018-01-03 -0.010286  0.017756\n",
       "2018-01-04 -0.008325 -0.001843\n",
       "2018-01-05  0.006210  0.013579\n",
       "2018-01-08  0.060755  0.007624"
      ]
     },
     "execution_count": 20,
     "metadata": {},
     "output_type": "execute_result"
    }
   ],
   "source": [
    "df_adj_close1.head()"
   ]
  },
  {
   "cell_type": "code",
   "execution_count": 21,
   "id": "heard-valuable",
   "metadata": {},
   "outputs": [
    {
     "data": {
      "text/plain": [
       "0.0001826162315603097"
      ]
     },
     "execution_count": 21,
     "metadata": {},
     "output_type": "execute_result"
    }
   ],
   "source": [
    "# Covariance\n",
    "df_adj_close1['TSLA'].cov(df_adj_close1['FB'])"
   ]
  },
  {
   "cell_type": "markdown",
   "id": "colonial-subject",
   "metadata": {},
   "source": [
    "## $r = \\frac{\\sum\\limits_{i=1}^{N} \\left(x_{i} - \\bar{x}\\right) \\left(y_{i} - \\bar{y}\\right)}{\\sqrt{\\sum\\limits_{i=1}^{N} \\left(x_{i} - \\bar{x}\\right) \\sum\\limits_{i=1}^{N} \\left(y_{i} - \\bar{y}\\right)}} \\\\ r = \\text{correlation coefficient} \\\\ x_{i} = \\text{values of the x-variable in a sample} \\\\ \\bar{x} = \\text{mean of the values of the x-variable} \\\\ y_{i} = \\text{values of the y-variable in a sample} \\\\ \\bar{y} = \\text{mean of the values of the y-variable} \\\\ N = \\text{number of data values}$"
   ]
  },
  {
   "cell_type": "code",
   "execution_count": 22,
   "id": "disabled-greensboro",
   "metadata": {},
   "outputs": [
    {
     "data": {
      "text/plain": [
       "0.252088327246613"
      ]
     },
     "execution_count": 22,
     "metadata": {},
     "output_type": "execute_result"
    }
   ],
   "source": [
    "#Correlation\n",
    "df_adj_close1['TSLA'].corr(df_adj_close1['FB'])"
   ]
  },
  {
   "cell_type": "markdown",
   "id": "announced-macintosh",
   "metadata": {},
   "source": [
    "## $E[R] = \\sum\\limits_{i=1}^{N} R_{i}P_{i} \\\\ E[R] = \\text{expected return} \\\\ R_i = \\text{return in scenario i} \\\\ P_i = \\text{probability for the return} \\ R_{i} \\ \\text{in scenario i} \\\\ N = \\text{number of scenarios}$"
   ]
  },
  {
   "cell_type": "code",
   "execution_count": 23,
   "id": "limiting-pioneer",
   "metadata": {},
   "outputs": [],
   "source": [
    "#Expected Returns\n",
    "df_adj_close2 = df_adj_close.pct_change().apply(lambda x: np.log(1+x))"
   ]
  },
  {
   "cell_type": "code",
   "execution_count": 24,
   "id": "basic-thailand",
   "metadata": {
    "scrolled": true
   },
   "outputs": [
    {
     "data": {
      "text/html": [
       "<div>\n",
       "<style scoped>\n",
       "    .dataframe tbody tr th:only-of-type {\n",
       "        vertical-align: middle;\n",
       "    }\n",
       "\n",
       "    .dataframe tbody tr th {\n",
       "        vertical-align: top;\n",
       "    }\n",
       "\n",
       "    .dataframe thead th {\n",
       "        text-align: right;\n",
       "    }\n",
       "</style>\n",
       "<table border=\"1\" class=\"dataframe\">\n",
       "  <thead>\n",
       "    <tr style=\"text-align: right;\">\n",
       "      <th>Symbols</th>\n",
       "      <th>TSLA</th>\n",
       "      <th>FB</th>\n",
       "    </tr>\n",
       "    <tr>\n",
       "      <th>Date</th>\n",
       "      <th></th>\n",
       "      <th></th>\n",
       "    </tr>\n",
       "  </thead>\n",
       "  <tbody>\n",
       "    <tr>\n",
       "      <th>2018-01-02</th>\n",
       "      <td>NaN</td>\n",
       "      <td>NaN</td>\n",
       "    </tr>\n",
       "    <tr>\n",
       "      <th>2018-01-03</th>\n",
       "      <td>-0.010286</td>\n",
       "      <td>0.017756</td>\n",
       "    </tr>\n",
       "    <tr>\n",
       "      <th>2018-01-04</th>\n",
       "      <td>-0.008325</td>\n",
       "      <td>-0.001843</td>\n",
       "    </tr>\n",
       "    <tr>\n",
       "      <th>2018-01-05</th>\n",
       "      <td>0.006210</td>\n",
       "      <td>0.013579</td>\n",
       "    </tr>\n",
       "    <tr>\n",
       "      <th>2018-01-08</th>\n",
       "      <td>0.060755</td>\n",
       "      <td>0.007624</td>\n",
       "    </tr>\n",
       "  </tbody>\n",
       "</table>\n",
       "</div>"
      ],
      "text/plain": [
       "Symbols         TSLA        FB\n",
       "Date                          \n",
       "2018-01-02       NaN       NaN\n",
       "2018-01-03 -0.010286  0.017756\n",
       "2018-01-04 -0.008325 -0.001843\n",
       "2018-01-05  0.006210  0.013579\n",
       "2018-01-08  0.060755  0.007624"
      ]
     },
     "execution_count": 24,
     "metadata": {},
     "output_type": "execute_result"
    }
   ],
   "source": [
    "df_adj_close2.head()"
   ]
  },
  {
   "cell_type": "code",
   "execution_count": 25,
   "id": "negative-separation",
   "metadata": {},
   "outputs": [
    {
     "data": {
      "text/plain": [
       "Symbols\n",
       "TSLA    0.000530\n",
       "FB      0.000246\n",
       "dtype: float64"
      ]
     },
     "execution_count": 25,
     "metadata": {},
     "output_type": "execute_result"
    }
   ],
   "source": [
    "# Define weights/probabilities for allocation\n",
    "w = [0.2, 0.8]\n",
    "e_r_ind = df_adj_close2.mean()\n",
    "e_r_ind"
   ]
  },
  {
   "cell_type": "code",
   "execution_count": 26,
   "id": "acute-velvet",
   "metadata": {
    "scrolled": true
   },
   "outputs": [
    {
     "data": {
      "text/plain": [
       "0.00030276915241011175"
      ]
     },
     "execution_count": 26,
     "metadata": {},
     "output_type": "execute_result"
    }
   ],
   "source": [
    "# Total expected return\n",
    "e_r = (e_r_ind*w).sum()\n",
    "e_r"
   ]
  },
  {
   "cell_type": "markdown",
   "id": "eight-rehabilitation",
   "metadata": {},
   "source": [
    "## Building an optimal risky portfolio"
   ]
  },
  {
   "cell_type": "code",
   "execution_count": 27,
   "id": "rough-contents",
   "metadata": {},
   "outputs": [],
   "source": [
    "# Import data\n",
    "df = data.DataReader(['AAPL', 'NKE', 'GOOGL', 'AMZN'], 'yahoo', start='2015/01/01', end='2019/12/31')"
   ]
  },
  {
   "cell_type": "code",
   "execution_count": 28,
   "id": "imperial-scheme",
   "metadata": {
    "scrolled": true
   },
   "outputs": [
    {
     "data": {
      "text/html": [
       "<div>\n",
       "<style scoped>\n",
       "    .dataframe tbody tr th:only-of-type {\n",
       "        vertical-align: middle;\n",
       "    }\n",
       "\n",
       "    .dataframe tbody tr th {\n",
       "        vertical-align: top;\n",
       "    }\n",
       "\n",
       "    .dataframe thead tr th {\n",
       "        text-align: left;\n",
       "    }\n",
       "\n",
       "    .dataframe thead tr:last-of-type th {\n",
       "        text-align: right;\n",
       "    }\n",
       "</style>\n",
       "<table border=\"1\" class=\"dataframe\">\n",
       "  <thead>\n",
       "    <tr>\n",
       "      <th>Attributes</th>\n",
       "      <th colspan=\"4\" halign=\"left\">Adj Close</th>\n",
       "      <th colspan=\"4\" halign=\"left\">Close</th>\n",
       "      <th colspan=\"2\" halign=\"left\">High</th>\n",
       "      <th>...</th>\n",
       "      <th colspan=\"2\" halign=\"left\">Low</th>\n",
       "      <th colspan=\"4\" halign=\"left\">Open</th>\n",
       "      <th colspan=\"4\" halign=\"left\">Volume</th>\n",
       "    </tr>\n",
       "    <tr>\n",
       "      <th>Symbols</th>\n",
       "      <th>AAPL</th>\n",
       "      <th>NKE</th>\n",
       "      <th>GOOGL</th>\n",
       "      <th>AMZN</th>\n",
       "      <th>AAPL</th>\n",
       "      <th>NKE</th>\n",
       "      <th>GOOGL</th>\n",
       "      <th>AMZN</th>\n",
       "      <th>AAPL</th>\n",
       "      <th>NKE</th>\n",
       "      <th>...</th>\n",
       "      <th>GOOGL</th>\n",
       "      <th>AMZN</th>\n",
       "      <th>AAPL</th>\n",
       "      <th>NKE</th>\n",
       "      <th>GOOGL</th>\n",
       "      <th>AMZN</th>\n",
       "      <th>AAPL</th>\n",
       "      <th>NKE</th>\n",
       "      <th>GOOGL</th>\n",
       "      <th>AMZN</th>\n",
       "    </tr>\n",
       "    <tr>\n",
       "      <th>Date</th>\n",
       "      <th></th>\n",
       "      <th></th>\n",
       "      <th></th>\n",
       "      <th></th>\n",
       "      <th></th>\n",
       "      <th></th>\n",
       "      <th></th>\n",
       "      <th></th>\n",
       "      <th></th>\n",
       "      <th></th>\n",
       "      <th></th>\n",
       "      <th></th>\n",
       "      <th></th>\n",
       "      <th></th>\n",
       "      <th></th>\n",
       "      <th></th>\n",
       "      <th></th>\n",
       "      <th></th>\n",
       "      <th></th>\n",
       "      <th></th>\n",
       "      <th></th>\n",
       "    </tr>\n",
       "  </thead>\n",
       "  <tbody>\n",
       "    <tr>\n",
       "      <th>2014-12-31</th>\n",
       "      <td>25.057606</td>\n",
       "      <td>44.779621</td>\n",
       "      <td>530.659973</td>\n",
       "      <td>310.350006</td>\n",
       "      <td>27.594999</td>\n",
       "      <td>48.075001</td>\n",
       "      <td>530.659973</td>\n",
       "      <td>310.350006</td>\n",
       "      <td>28.282499</td>\n",
       "      <td>48.805000</td>\n",
       "      <td>...</td>\n",
       "      <td>530.200012</td>\n",
       "      <td>310.010010</td>\n",
       "      <td>28.205000</td>\n",
       "      <td>48.485001</td>\n",
       "      <td>537.739990</td>\n",
       "      <td>311.549988</td>\n",
       "      <td>165613600.0</td>\n",
       "      <td>4697400.0</td>\n",
       "      <td>1232400.0</td>\n",
       "      <td>2048000.0</td>\n",
       "    </tr>\n",
       "    <tr>\n",
       "      <th>2015-01-02</th>\n",
       "      <td>24.819241</td>\n",
       "      <td>44.257999</td>\n",
       "      <td>529.549988</td>\n",
       "      <td>308.519989</td>\n",
       "      <td>27.332500</td>\n",
       "      <td>47.514999</td>\n",
       "      <td>529.549988</td>\n",
       "      <td>308.519989</td>\n",
       "      <td>27.860001</td>\n",
       "      <td>48.474998</td>\n",
       "      <td>...</td>\n",
       "      <td>527.880005</td>\n",
       "      <td>306.959991</td>\n",
       "      <td>27.847500</td>\n",
       "      <td>48.275002</td>\n",
       "      <td>532.599976</td>\n",
       "      <td>312.579987</td>\n",
       "      <td>212818400.0</td>\n",
       "      <td>4985800.0</td>\n",
       "      <td>1324000.0</td>\n",
       "      <td>2783200.0</td>\n",
       "    </tr>\n",
       "    <tr>\n",
       "      <th>2015-01-05</th>\n",
       "      <td>24.120045</td>\n",
       "      <td>43.545448</td>\n",
       "      <td>519.460022</td>\n",
       "      <td>302.190002</td>\n",
       "      <td>26.562500</td>\n",
       "      <td>46.750000</td>\n",
       "      <td>519.460022</td>\n",
       "      <td>302.190002</td>\n",
       "      <td>27.162500</td>\n",
       "      <td>47.275002</td>\n",
       "      <td>...</td>\n",
       "      <td>517.750000</td>\n",
       "      <td>300.850006</td>\n",
       "      <td>27.072500</td>\n",
       "      <td>47.255001</td>\n",
       "      <td>527.150024</td>\n",
       "      <td>307.010010</td>\n",
       "      <td>257142000.0</td>\n",
       "      <td>6889200.0</td>\n",
       "      <td>2059100.0</td>\n",
       "      <td>2774200.0</td>\n",
       "    </tr>\n",
       "    <tr>\n",
       "      <th>2015-01-06</th>\n",
       "      <td>24.122320</td>\n",
       "      <td>43.289291</td>\n",
       "      <td>506.640015</td>\n",
       "      <td>295.290009</td>\n",
       "      <td>26.565001</td>\n",
       "      <td>46.474998</td>\n",
       "      <td>506.640015</td>\n",
       "      <td>295.290009</td>\n",
       "      <td>26.857500</td>\n",
       "      <td>47.075001</td>\n",
       "      <td>...</td>\n",
       "      <td>505.549988</td>\n",
       "      <td>292.380005</td>\n",
       "      <td>26.635000</td>\n",
       "      <td>46.945000</td>\n",
       "      <td>520.500000</td>\n",
       "      <td>302.239990</td>\n",
       "      <td>263188400.0</td>\n",
       "      <td>7576000.0</td>\n",
       "      <td>2722800.0</td>\n",
       "      <td>3519000.0</td>\n",
       "    </tr>\n",
       "    <tr>\n",
       "      <th>2015-01-07</th>\n",
       "      <td>24.460564</td>\n",
       "      <td>44.183491</td>\n",
       "      <td>505.149994</td>\n",
       "      <td>298.420013</td>\n",
       "      <td>26.937500</td>\n",
       "      <td>47.435001</td>\n",
       "      <td>505.149994</td>\n",
       "      <td>298.420013</td>\n",
       "      <td>27.049999</td>\n",
       "      <td>47.650002</td>\n",
       "      <td>...</td>\n",
       "      <td>503.649994</td>\n",
       "      <td>295.329987</td>\n",
       "      <td>26.799999</td>\n",
       "      <td>46.805000</td>\n",
       "      <td>510.950012</td>\n",
       "      <td>297.500000</td>\n",
       "      <td>160423600.0</td>\n",
       "      <td>7256000.0</td>\n",
       "      <td>2345900.0</td>\n",
       "      <td>2640300.0</td>\n",
       "    </tr>\n",
       "  </tbody>\n",
       "</table>\n",
       "<p>5 rows × 24 columns</p>\n",
       "</div>"
      ],
      "text/plain": [
       "Attributes  Adj Close                                         Close  \\\n",
       "Symbols          AAPL        NKE       GOOGL        AMZN       AAPL   \n",
       "Date                                                                  \n",
       "2014-12-31  25.057606  44.779621  530.659973  310.350006  27.594999   \n",
       "2015-01-02  24.819241  44.257999  529.549988  308.519989  27.332500   \n",
       "2015-01-05  24.120045  43.545448  519.460022  302.190002  26.562500   \n",
       "2015-01-06  24.122320  43.289291  506.640015  295.290009  26.565001   \n",
       "2015-01-07  24.460564  44.183491  505.149994  298.420013  26.937500   \n",
       "\n",
       "Attributes                                          High             ...  \\\n",
       "Symbols           NKE       GOOGL        AMZN       AAPL        NKE  ...   \n",
       "Date                                                                 ...   \n",
       "2014-12-31  48.075001  530.659973  310.350006  28.282499  48.805000  ...   \n",
       "2015-01-02  47.514999  529.549988  308.519989  27.860001  48.474998  ...   \n",
       "2015-01-05  46.750000  519.460022  302.190002  27.162500  47.275002  ...   \n",
       "2015-01-06  46.474998  506.640015  295.290009  26.857500  47.075001  ...   \n",
       "2015-01-07  47.435001  505.149994  298.420013  27.049999  47.650002  ...   \n",
       "\n",
       "Attributes         Low                   Open                         \\\n",
       "Symbols          GOOGL        AMZN       AAPL        NKE       GOOGL   \n",
       "Date                                                                   \n",
       "2014-12-31  530.200012  310.010010  28.205000  48.485001  537.739990   \n",
       "2015-01-02  527.880005  306.959991  27.847500  48.275002  532.599976   \n",
       "2015-01-05  517.750000  300.850006  27.072500  47.255001  527.150024   \n",
       "2015-01-06  505.549988  292.380005  26.635000  46.945000  520.500000   \n",
       "2015-01-07  503.649994  295.329987  26.799999  46.805000  510.950012   \n",
       "\n",
       "Attributes                   Volume                                   \n",
       "Symbols           AMZN         AAPL        NKE      GOOGL       AMZN  \n",
       "Date                                                                  \n",
       "2014-12-31  311.549988  165613600.0  4697400.0  1232400.0  2048000.0  \n",
       "2015-01-02  312.579987  212818400.0  4985800.0  1324000.0  2783200.0  \n",
       "2015-01-05  307.010010  257142000.0  6889200.0  2059100.0  2774200.0  \n",
       "2015-01-06  302.239990  263188400.0  7576000.0  2722800.0  3519000.0  \n",
       "2015-01-07  297.500000  160423600.0  7256000.0  2345900.0  2640300.0  \n",
       "\n",
       "[5 rows x 24 columns]"
      ]
     },
     "execution_count": 28,
     "metadata": {},
     "output_type": "execute_result"
    }
   ],
   "source": [
    "df.head()"
   ]
  },
  {
   "cell_type": "code",
   "execution_count": 29,
   "id": "experienced-tomorrow",
   "metadata": {},
   "outputs": [],
   "source": [
    "# Closing price\n",
    "df = df['Adj Close']"
   ]
  },
  {
   "cell_type": "code",
   "execution_count": 30,
   "id": "seventh-corporation",
   "metadata": {
    "scrolled": true
   },
   "outputs": [
    {
     "data": {
      "text/html": [
       "<div>\n",
       "<style scoped>\n",
       "    .dataframe tbody tr th:only-of-type {\n",
       "        vertical-align: middle;\n",
       "    }\n",
       "\n",
       "    .dataframe tbody tr th {\n",
       "        vertical-align: top;\n",
       "    }\n",
       "\n",
       "    .dataframe thead th {\n",
       "        text-align: right;\n",
       "    }\n",
       "</style>\n",
       "<table border=\"1\" class=\"dataframe\">\n",
       "  <thead>\n",
       "    <tr style=\"text-align: right;\">\n",
       "      <th>Symbols</th>\n",
       "      <th>AAPL</th>\n",
       "      <th>NKE</th>\n",
       "      <th>GOOGL</th>\n",
       "      <th>AMZN</th>\n",
       "    </tr>\n",
       "    <tr>\n",
       "      <th>Date</th>\n",
       "      <th></th>\n",
       "      <th></th>\n",
       "      <th></th>\n",
       "      <th></th>\n",
       "    </tr>\n",
       "  </thead>\n",
       "  <tbody>\n",
       "    <tr>\n",
       "      <th>2014-12-31</th>\n",
       "      <td>25.057606</td>\n",
       "      <td>44.779621</td>\n",
       "      <td>530.659973</td>\n",
       "      <td>310.350006</td>\n",
       "    </tr>\n",
       "    <tr>\n",
       "      <th>2015-01-02</th>\n",
       "      <td>24.819241</td>\n",
       "      <td>44.257999</td>\n",
       "      <td>529.549988</td>\n",
       "      <td>308.519989</td>\n",
       "    </tr>\n",
       "    <tr>\n",
       "      <th>2015-01-05</th>\n",
       "      <td>24.120045</td>\n",
       "      <td>43.545448</td>\n",
       "      <td>519.460022</td>\n",
       "      <td>302.190002</td>\n",
       "    </tr>\n",
       "    <tr>\n",
       "      <th>2015-01-06</th>\n",
       "      <td>24.122320</td>\n",
       "      <td>43.289291</td>\n",
       "      <td>506.640015</td>\n",
       "      <td>295.290009</td>\n",
       "    </tr>\n",
       "    <tr>\n",
       "      <th>2015-01-07</th>\n",
       "      <td>24.460564</td>\n",
       "      <td>44.183491</td>\n",
       "      <td>505.149994</td>\n",
       "      <td>298.420013</td>\n",
       "    </tr>\n",
       "  </tbody>\n",
       "</table>\n",
       "</div>"
      ],
      "text/plain": [
       "Symbols          AAPL        NKE       GOOGL        AMZN\n",
       "Date                                                    \n",
       "2014-12-31  25.057606  44.779621  530.659973  310.350006\n",
       "2015-01-02  24.819241  44.257999  529.549988  308.519989\n",
       "2015-01-05  24.120045  43.545448  519.460022  302.190002\n",
       "2015-01-06  24.122320  43.289291  506.640015  295.290009\n",
       "2015-01-07  24.460564  44.183491  505.149994  298.420013"
      ]
     },
     "execution_count": 30,
     "metadata": {},
     "output_type": "execute_result"
    }
   ],
   "source": [
    "df.head()"
   ]
  },
  {
   "cell_type": "markdown",
   "id": "stock-necklace",
   "metadata": {},
   "source": [
    "### Covariance and Correlation matrix"
   ]
  },
  {
   "cell_type": "markdown",
   "id": "transparent-investigation",
   "metadata": {},
   "source": [
    "## $cov_{x,y} = \\frac{\\sum\\limits_{i=1}^{N} \\left(x_{i} - \\bar{x}\\right) \\left(y_{i} - \\bar{y}\\right)}{N - 1}, \\ r = \\frac{\\sum\\limits_{i=1}^{N} \\left(x_{i} - \\bar{x}\\right) \\left(y_{i} - \\bar{y}\\right)}{\\sqrt{\\sum\\limits_{i=1}^{N} \\left(x_{i} - \\bar{x}\\right) \\sum\\limits_{i=1}^{N} \\left(y_{i} - \\bar{y}\\right)}} \\\\ cov_{x,y} = \\text{covariance between variable x and y} \\\\ r = \\text{correlation coefficient} \\\\ x_{i} = \\text{values of the x-variable in a sample} \\\\ \\bar{x} = \\text{mean of the values of the x-variable} \\\\ y_{i} = \\text{values of the y-variable in a sample} \\\\ \\bar{y} = \\text{mean of the values of the y-variable} \\\\ N = \\text{number of data values}$"
   ]
  },
  {
   "cell_type": "code",
   "execution_count": 31,
   "id": "streaming-marijuana",
   "metadata": {},
   "outputs": [
    {
     "data": {
      "text/html": [
       "<div>\n",
       "<style scoped>\n",
       "    .dataframe tbody tr th:only-of-type {\n",
       "        vertical-align: middle;\n",
       "    }\n",
       "\n",
       "    .dataframe tbody tr th {\n",
       "        vertical-align: top;\n",
       "    }\n",
       "\n",
       "    .dataframe thead th {\n",
       "        text-align: right;\n",
       "    }\n",
       "</style>\n",
       "<table border=\"1\" class=\"dataframe\">\n",
       "  <thead>\n",
       "    <tr style=\"text-align: right;\">\n",
       "      <th>Symbols</th>\n",
       "      <th>AAPL</th>\n",
       "      <th>NKE</th>\n",
       "      <th>GOOGL</th>\n",
       "      <th>AMZN</th>\n",
       "    </tr>\n",
       "    <tr>\n",
       "      <th>Symbols</th>\n",
       "      <th></th>\n",
       "      <th></th>\n",
       "      <th></th>\n",
       "      <th></th>\n",
       "    </tr>\n",
       "  </thead>\n",
       "  <tbody>\n",
       "    <tr>\n",
       "      <th>AAPL</th>\n",
       "      <td>0.000245</td>\n",
       "      <td>0.000084</td>\n",
       "      <td>0.000122</td>\n",
       "      <td>0.000142</td>\n",
       "    </tr>\n",
       "    <tr>\n",
       "      <th>NKE</th>\n",
       "      <td>0.000084</td>\n",
       "      <td>0.000219</td>\n",
       "      <td>0.000085</td>\n",
       "      <td>0.000092</td>\n",
       "    </tr>\n",
       "    <tr>\n",
       "      <th>GOOGL</th>\n",
       "      <td>0.000122</td>\n",
       "      <td>0.000085</td>\n",
       "      <td>0.000221</td>\n",
       "      <td>0.000176</td>\n",
       "    </tr>\n",
       "    <tr>\n",
       "      <th>AMZN</th>\n",
       "      <td>0.000142</td>\n",
       "      <td>0.000092</td>\n",
       "      <td>0.000176</td>\n",
       "      <td>0.000333</td>\n",
       "    </tr>\n",
       "  </tbody>\n",
       "</table>\n",
       "</div>"
      ],
      "text/plain": [
       "Symbols      AAPL       NKE     GOOGL      AMZN\n",
       "Symbols                                        \n",
       "AAPL     0.000245  0.000084  0.000122  0.000142\n",
       "NKE      0.000084  0.000219  0.000085  0.000092\n",
       "GOOGL    0.000122  0.000085  0.000221  0.000176\n",
       "AMZN     0.000142  0.000092  0.000176  0.000333"
      ]
     },
     "execution_count": 31,
     "metadata": {},
     "output_type": "execute_result"
    }
   ],
   "source": [
    "# Log of percentage change\n",
    "cov_matrix = df.pct_change().apply(lambda x: np.log(1+x)).cov()\n",
    "cov_matrix"
   ]
  },
  {
   "cell_type": "code",
   "execution_count": 32,
   "id": "published-reason",
   "metadata": {},
   "outputs": [
    {
     "data": {
      "text/html": [
       "<div>\n",
       "<style scoped>\n",
       "    .dataframe tbody tr th:only-of-type {\n",
       "        vertical-align: middle;\n",
       "    }\n",
       "\n",
       "    .dataframe tbody tr th {\n",
       "        vertical-align: top;\n",
       "    }\n",
       "\n",
       "    .dataframe thead th {\n",
       "        text-align: right;\n",
       "    }\n",
       "</style>\n",
       "<table border=\"1\" class=\"dataframe\">\n",
       "  <thead>\n",
       "    <tr style=\"text-align: right;\">\n",
       "      <th>Symbols</th>\n",
       "      <th>AAPL</th>\n",
       "      <th>NKE</th>\n",
       "      <th>GOOGL</th>\n",
       "      <th>AMZN</th>\n",
       "    </tr>\n",
       "    <tr>\n",
       "      <th>Symbols</th>\n",
       "      <th></th>\n",
       "      <th></th>\n",
       "      <th></th>\n",
       "      <th></th>\n",
       "    </tr>\n",
       "  </thead>\n",
       "  <tbody>\n",
       "    <tr>\n",
       "      <th>AAPL</th>\n",
       "      <td>1.000000</td>\n",
       "      <td>0.361188</td>\n",
       "      <td>0.524819</td>\n",
       "      <td>0.496704</td>\n",
       "    </tr>\n",
       "    <tr>\n",
       "      <th>NKE</th>\n",
       "      <td>0.361188</td>\n",
       "      <td>1.000000</td>\n",
       "      <td>0.387448</td>\n",
       "      <td>0.341680</td>\n",
       "    </tr>\n",
       "    <tr>\n",
       "      <th>GOOGL</th>\n",
       "      <td>0.524819</td>\n",
       "      <td>0.387448</td>\n",
       "      <td>1.000000</td>\n",
       "      <td>0.647952</td>\n",
       "    </tr>\n",
       "    <tr>\n",
       "      <th>AMZN</th>\n",
       "      <td>0.496704</td>\n",
       "      <td>0.341680</td>\n",
       "      <td>0.647952</td>\n",
       "      <td>1.000000</td>\n",
       "    </tr>\n",
       "  </tbody>\n",
       "</table>\n",
       "</div>"
      ],
      "text/plain": [
       "Symbols      AAPL       NKE     GOOGL      AMZN\n",
       "Symbols                                        \n",
       "AAPL     1.000000  0.361188  0.524819  0.496704\n",
       "NKE      0.361188  1.000000  0.387448  0.341680\n",
       "GOOGL    0.524819  0.387448  1.000000  0.647952\n",
       "AMZN     0.496704  0.341680  0.647952  1.000000"
      ]
     },
     "execution_count": 32,
     "metadata": {},
     "output_type": "execute_result"
    }
   ],
   "source": [
    "# Log of percentage change\n",
    "corr_matrix = df.pct_change().apply(lambda x: np.log(1+x)).corr()\n",
    "corr_matrix"
   ]
  },
  {
   "cell_type": "markdown",
   "id": "prostate-disaster",
   "metadata": {},
   "source": [
    "## $\\sigma_{p}^{2} = \\sum\\limits_{i=1}^{N}\\sum\\limits_{j=1}^{N} w_i w_j \\ cov_{i,j}$"
   ]
  },
  {
   "cell_type": "code",
   "execution_count": 33,
   "id": "incorporated-mailing",
   "metadata": {},
   "outputs": [
    {
     "data": {
      "text/plain": [
       "0.00016069830943165779"
      ]
     },
     "execution_count": 33,
     "metadata": {},
     "output_type": "execute_result"
    }
   ],
   "source": [
    "# Randomly weighted portfolio's variance\n",
    "w = {'AAPL': 0.1, 'NKE': 0.2, 'GOOGL': 0.5, 'AMZN': 0.2}\n",
    "port_var = cov_matrix.mul(w, axis=0).mul(w, axis=1).sum().sum()\n",
    "port_var"
   ]
  },
  {
   "cell_type": "markdown",
   "id": "exciting-publication",
   "metadata": {},
   "source": [
    "## Portfolio expected returns"
   ]
  },
  {
   "cell_type": "markdown",
   "id": "civil-hunter",
   "metadata": {},
   "source": [
    "## $E[R] = \\sum\\limits_{i=1}^{N} R_{i}P_{i} \\\\ E[R] = \\text{expected return} \\\\ R_i = \\text{return in scenario i} \\\\ P_i = \\text{probability for the return} \\ R_{i} \\ \\text{in scenario i} \\\\ N = \\text{number of scenarios}$"
   ]
  },
  {
   "cell_type": "code",
   "execution_count": 34,
   "id": "revolutionary-glasgow",
   "metadata": {},
   "outputs": [
    {
     "data": {
      "text/plain": [
       "Symbols\n",
       "AAPL     0.282997\n",
       "NKE      0.192698\n",
       "GOOGL    0.217545\n",
       "AMZN     0.472289\n",
       "dtype: float64"
      ]
     },
     "execution_count": 34,
     "metadata": {},
     "output_type": "execute_result"
    }
   ],
   "source": [
    "# Yearly returns for individual companies\n",
    "ind_er = df.resample('Y').last().pct_change().mean()\n",
    "ind_er"
   ]
  },
  {
   "cell_type": "code",
   "execution_count": 35,
   "id": "christian-correlation",
   "metadata": {},
   "outputs": [
    {
     "data": {
      "text/plain": [
       "0.27006939582202577"
      ]
     },
     "execution_count": 35,
     "metadata": {},
     "output_type": "execute_result"
    }
   ],
   "source": [
    "# Portfolio returns\n",
    "w = [0.1, 0.2, 0.5, 0.2] #here assigned manually below we take randomly\n",
    "port_er = (w*ind_er).sum()\n",
    "port_er"
   ]
  },
  {
   "cell_type": "code",
   "execution_count": 36,
   "id": "lightweight-mandate",
   "metadata": {},
   "outputs": [
    {
     "data": {
      "text/plain": [
       "Symbols\n",
       "AAPL     0.247734\n",
       "NKE      0.233803\n",
       "GOOGL    0.235191\n",
       "AMZN     0.288559\n",
       "dtype: float64"
      ]
     },
     "execution_count": 36,
     "metadata": {},
     "output_type": "execute_result"
    }
   ],
   "source": [
    "# Volatility is given by the annual standard deviation. We multiply by 250 because there are 250 trading days/year.\n",
    "ann_sd = df.pct_change().apply(lambda x: np.log(1+x)).std().apply(lambda x: x*np.sqrt(250))\n",
    "ann_sd"
   ]
  },
  {
   "cell_type": "code",
   "execution_count": 37,
   "id": "comparative-groove",
   "metadata": {},
   "outputs": [
    {
     "data": {
      "text/html": [
       "<div>\n",
       "<style scoped>\n",
       "    .dataframe tbody tr th:only-of-type {\n",
       "        vertical-align: middle;\n",
       "    }\n",
       "\n",
       "    .dataframe tbody tr th {\n",
       "        vertical-align: top;\n",
       "    }\n",
       "\n",
       "    .dataframe thead th {\n",
       "        text-align: right;\n",
       "    }\n",
       "</style>\n",
       "<table border=\"1\" class=\"dataframe\">\n",
       "  <thead>\n",
       "    <tr style=\"text-align: right;\">\n",
       "      <th></th>\n",
       "      <th>Returns</th>\n",
       "      <th>Volatility</th>\n",
       "    </tr>\n",
       "    <tr>\n",
       "      <th>Symbols</th>\n",
       "      <th></th>\n",
       "      <th></th>\n",
       "    </tr>\n",
       "  </thead>\n",
       "  <tbody>\n",
       "    <tr>\n",
       "      <th>AAPL</th>\n",
       "      <td>0.282997</td>\n",
       "      <td>0.247734</td>\n",
       "    </tr>\n",
       "    <tr>\n",
       "      <th>NKE</th>\n",
       "      <td>0.192698</td>\n",
       "      <td>0.233803</td>\n",
       "    </tr>\n",
       "    <tr>\n",
       "      <th>GOOGL</th>\n",
       "      <td>0.217545</td>\n",
       "      <td>0.235191</td>\n",
       "    </tr>\n",
       "    <tr>\n",
       "      <th>AMZN</th>\n",
       "      <td>0.472289</td>\n",
       "      <td>0.288559</td>\n",
       "    </tr>\n",
       "  </tbody>\n",
       "</table>\n",
       "</div>"
      ],
      "text/plain": [
       "          Returns  Volatility\n",
       "Symbols                      \n",
       "AAPL     0.282997    0.247734\n",
       "NKE      0.192698    0.233803\n",
       "GOOGL    0.217545    0.235191\n",
       "AMZN     0.472289    0.288559"
      ]
     },
     "execution_count": 37,
     "metadata": {},
     "output_type": "execute_result"
    }
   ],
   "source": [
    "# Creating a table for visualising returns and volatility of assets\n",
    "assets = pd.concat([ind_er, ann_sd], axis=1) \n",
    "assets.columns = ['Returns', 'Volatility']\n",
    "assets"
   ]
  },
  {
   "cell_type": "code",
   "execution_count": 38,
   "id": "atmospheric-retailer",
   "metadata": {},
   "outputs": [],
   "source": [
    "#different weights instead of constant weights\n",
    "p_ret = [] # Define an empty array for portfolio returns\n",
    "p_vol = [] # Define an empty array for portfolio volatility\n",
    "p_weights = [] # Define an empty array for asset weights"
   ]
  },
  {
   "cell_type": "code",
   "execution_count": 39,
   "id": "broken-milwaukee",
   "metadata": {},
   "outputs": [],
   "source": [
    "num_assets = len(df.columns)\n",
    "num_portfolios = 10000"
   ]
  },
  {
   "cell_type": "code",
   "execution_count": 40,
   "id": "worst-script",
   "metadata": {},
   "outputs": [],
   "source": [
    "for portfolio in range(num_portfolios):\n",
    "    weights = np.random.random(num_assets) #random weights\n",
    "    weights = weights/np.sum(weights) #normalize weights\n",
    "    p_weights.append(weights) #assest weights\n",
    "    returns = np.dot(weights, ind_er) # Returns are the product of individual expected returns of asset and its weights \n",
    "    p_ret.append(returns) #portfolio returns\n",
    "    var = cov_matrix.mul(weights, axis=0).mul(weights, axis=1).sum().sum() # Portfolio Variance\n",
    "    sd = np.sqrt(var) # Daily standard deviation\n",
    "    ann_sd = sd*np.sqrt(250) # Annual(250 days) standard deviation = volatility\n",
    "    p_vol.append(ann_sd) #portfolio volatility"
   ]
  },
  {
   "cell_type": "code",
   "execution_count": 41,
   "id": "equipped-guard",
   "metadata": {},
   "outputs": [],
   "source": [
    "data = {'Returns':p_ret, 'Volatility':p_vol}"
   ]
  },
  {
   "cell_type": "code",
   "execution_count": 42,
   "id": "political-tunisia",
   "metadata": {},
   "outputs": [
    {
     "name": "stdout",
     "output_type": "stream",
     "text": [
      "0 AAPL\n",
      "1 NKE\n",
      "2 GOOGL\n",
      "3 AMZN\n"
     ]
    }
   ],
   "source": [
    "for counter, symbol in enumerate(df.columns.tolist()):\n",
    "    data[symbol+' weight'] = [w[counter] for w in p_weights]"
   ]
  },
  {
   "cell_type": "code",
   "execution_count": 43,
   "id": "boolean-interim",
   "metadata": {},
   "outputs": [],
   "source": [
    "portfolios  = pd.DataFrame(data)"
   ]
  },
  {
   "cell_type": "code",
   "execution_count": 44,
   "id": "fitted-wellington",
   "metadata": {
    "scrolled": true
   },
   "outputs": [
    {
     "data": {
      "text/html": [
       "<div>\n",
       "<style scoped>\n",
       "    .dataframe tbody tr th:only-of-type {\n",
       "        vertical-align: middle;\n",
       "    }\n",
       "\n",
       "    .dataframe tbody tr th {\n",
       "        vertical-align: top;\n",
       "    }\n",
       "\n",
       "    .dataframe thead th {\n",
       "        text-align: right;\n",
       "    }\n",
       "</style>\n",
       "<table border=\"1\" class=\"dataframe\">\n",
       "  <thead>\n",
       "    <tr style=\"text-align: right;\">\n",
       "      <th></th>\n",
       "      <th>Returns</th>\n",
       "      <th>Volatility</th>\n",
       "      <th>AAPL weight</th>\n",
       "      <th>NKE weight</th>\n",
       "      <th>GOOGL weight</th>\n",
       "      <th>AMZN weight</th>\n",
       "    </tr>\n",
       "  </thead>\n",
       "  <tbody>\n",
       "    <tr>\n",
       "      <th>0</th>\n",
       "      <td>0.260746</td>\n",
       "      <td>0.190909</td>\n",
       "      <td>0.392377</td>\n",
       "      <td>0.259975</td>\n",
       "      <td>0.253519</td>\n",
       "      <td>0.094129</td>\n",
       "    </tr>\n",
       "    <tr>\n",
       "      <th>1</th>\n",
       "      <td>0.241660</td>\n",
       "      <td>0.190126</td>\n",
       "      <td>0.198737</td>\n",
       "      <td>0.285340</td>\n",
       "      <td>0.444489</td>\n",
       "      <td>0.071433</td>\n",
       "    </tr>\n",
       "    <tr>\n",
       "      <th>2</th>\n",
       "      <td>0.308739</td>\n",
       "      <td>0.209014</td>\n",
       "      <td>0.353446</td>\n",
       "      <td>0.043518</td>\n",
       "      <td>0.331620</td>\n",
       "      <td>0.271416</td>\n",
       "    </tr>\n",
       "    <tr>\n",
       "      <th>3</th>\n",
       "      <td>0.228651</td>\n",
       "      <td>0.190050</td>\n",
       "      <td>0.107798</td>\n",
       "      <td>0.383608</td>\n",
       "      <td>0.455275</td>\n",
       "      <td>0.053318</td>\n",
       "    </tr>\n",
       "    <tr>\n",
       "      <th>4</th>\n",
       "      <td>0.269821</td>\n",
       "      <td>0.191328</td>\n",
       "      <td>0.399592</td>\n",
       "      <td>0.286807</td>\n",
       "      <td>0.183085</td>\n",
       "      <td>0.130515</td>\n",
       "    </tr>\n",
       "  </tbody>\n",
       "</table>\n",
       "</div>"
      ],
      "text/plain": [
       "    Returns  Volatility  AAPL weight  NKE weight  GOOGL weight  AMZN weight\n",
       "0  0.260746    0.190909     0.392377    0.259975      0.253519     0.094129\n",
       "1  0.241660    0.190126     0.198737    0.285340      0.444489     0.071433\n",
       "2  0.308739    0.209014     0.353446    0.043518      0.331620     0.271416\n",
       "3  0.228651    0.190050     0.107798    0.383608      0.455275     0.053318\n",
       "4  0.269821    0.191328     0.399592    0.286807      0.183085     0.130515"
      ]
     },
     "execution_count": 44,
     "metadata": {},
     "output_type": "execute_result"
    }
   ],
   "source": [
    "# Dataframe of the 10000 portfolios created\n",
    "portfolios.head() "
   ]
  },
  {
   "cell_type": "code",
   "execution_count": 45,
   "id": "wrong-whole",
   "metadata": {},
   "outputs": [
    {
     "data": {
      "text/plain": [
       "<AxesSubplot:xlabel='Volatility', ylabel='Returns'>"
      ]
     },
     "execution_count": 45,
     "metadata": {},
     "output_type": "execute_result"
    },
    {
     "data": {
      "image/png": "[encoded data removed]",
      "text/plain": [
       "<Figure size 720x720 with 1 Axes>"
      ]
     },
     "metadata": {
      "needs_background": "light"
     },
     "output_type": "display_data"
    }
   ],
   "source": [
    "# Plot efficient frontier\n",
    "portfolios.plot.scatter(x='Volatility', y='Returns', marker='o', s=10, alpha=0.3, grid=True, figsize=[10,10])"
   ]
  },
  {
   "cell_type": "code",
   "execution_count": 46,
   "id": "affecting-picking",
   "metadata": {},
   "outputs": [
    {
     "data": {
      "text/plain": [
       "Returns         0.229667\n",
       "Volatility      0.186505\n",
       "AAPL weight     0.261742\n",
       "NKE weight      0.408492\n",
       "GOOGL weight    0.309587\n",
       "AMZN weight     0.020180\n",
       "Name: 874, dtype: float64"
      ]
     },
     "execution_count": 46,
     "metadata": {},
     "output_type": "execute_result"
    }
   ],
   "source": [
    "# idxmin() gives us the minimum value in the column specified.                               \n",
    "min_vol_port = portfolios.iloc[portfolios['Volatility'].idxmin()]\n",
    "min_vol_port"
   ]
  },
  {
   "cell_type": "code",
   "execution_count": 47,
   "id": "eight-manual",
   "metadata": {},
   "outputs": [
    {
     "data": {
      "text/plain": [
       "<matplotlib.collections.PathCollection at 0x1fe122ba640>"
      ]
     },
     "execution_count": 47,
     "metadata": {},
     "output_type": "execute_result"
    },
    {
     "data": {
      "image/png": "[encoded data removed]",
      "text/plain": [
       "<Figure size 720x720 with 1 Axes>"
      ]
     },
     "metadata": {
      "needs_background": "light"
     },
     "output_type": "display_data"
    }
   ],
   "source": [
    "# plotting the minimum volatility portfolio\n",
    "plt.subplots(figsize=[10,10])\n",
    "plt.scatter(portfolios['Volatility'], portfolios['Returns'],marker='o', s=10, alpha=0.3)\n",
    "plt.scatter(min_vol_port[1], min_vol_port[0], color='r', marker='*', s=500)"
   ]
  },
  {
   "cell_type": "markdown",
   "id": "historical-jewelry",
   "metadata": {},
   "source": [
    "## $\\text{Sharpe ratio} = \\frac{R_{p} - R_{f}}{\\sigma_{p}} \\\\ \\text{where:} \\\\ R_{p} = \\text{return of portfolio} \\\\ R_{f} = \\text{risk-free rate} \\\\ \\sigma_{p} = \\text{standard deviation of the portfolio}$"
   ]
  },
  {
   "cell_type": "code",
   "execution_count": 48,
   "id": "acquired-advance",
   "metadata": {},
   "outputs": [
    {
     "data": {
      "text/plain": [
       "Returns         0.390502\n",
       "Volatility      0.231387\n",
       "AAPL weight     0.245717\n",
       "NKE weight      0.115108\n",
       "GOOGL weight    0.012135\n",
       "AMZN weight     0.627040\n",
       "Name: 4762, dtype: float64"
      ]
     },
     "execution_count": 48,
     "metadata": {},
     "output_type": "execute_result"
    }
   ],
   "source": [
    "# Finding the optimal portfolio\n",
    "rf = 0.01 # risk factor\n",
    "optimal_risky_port = portfolios.iloc[((portfolios['Returns']-rf)/portfolios['Volatility']).idxmax()]\n",
    "optimal_risky_port"
   ]
  },
  {
   "cell_type": "code",
   "execution_count": 49,
   "id": "better-thumbnail",
   "metadata": {
    "scrolled": false
   },
   "outputs": [
    {
     "data": {
      "text/plain": [
       "<matplotlib.collections.PathCollection at 0x1fe1247dee0>"
      ]
     },
     "execution_count": 49,
     "metadata": {},
     "output_type": "execute_result"
    },
    {
     "data": {
      "image/png": "[encoded data removed]",
      "text/plain": [
       "<Figure size 720x720 with 1 Axes>"
      ]
     },
     "metadata": {
      "needs_background": "light"
     },
     "output_type": "display_data"
    }
   ],
   "source": [
    "# Plotting optimal portfolio\n",
    "plt.subplots(figsize=(10, 10))\n",
    "plt.scatter(portfolios['Volatility'], portfolios['Returns'],marker='o', s=10, alpha=0.3)\n",
    "plt.scatter(min_vol_port[1], min_vol_port[0], color='r', marker='*', s=500)\n",
    "plt.scatter(optimal_risky_port[1], optimal_risky_port[0], color='g', marker='*', s=500)"
   ]
  }
 ],
 "metadata": {
  "kernelspec": {
   "display_name": "Python 3",
   "language": "python",
   "name": "python3"
  },
  "language_info": {
   "codemirror_mode": {
    "name": "ipython",
    "version": 3
   },
   "file_extension": ".py",
   "mimetype": "text/x-python",
   "name": "python",
   "nbconvert_exporter": "python",
   "pygments_lexer": "ipython3",
   "version": "3.9.2"
  }
 },
 "nbformat": 4,
 "nbformat_minor": 5
}
