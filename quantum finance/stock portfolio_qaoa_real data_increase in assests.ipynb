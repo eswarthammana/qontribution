{
 "cells": [
  {
   "cell_type": "markdown",
   "id": "designed-smart",
   "metadata": {},
   "source": [
    "## This notebook is part of self learning Quantum Computing Algorithms"
   ]
  },
  {
   "cell_type": "markdown",
   "id": "horizontal-recovery",
   "metadata": {},
   "source": [
    "## Description: This program optimizes the stock portfolio\n",
    "### With real time data + increase in assests"
   ]
  },
  {
   "cell_type": "code",
   "execution_count": 10,
   "id": "64f69981",
   "metadata": {},
   "outputs": [],
   "source": [
    "import numpy as np\n",
    "from qiskit_finance.data_providers import RandomDataProvider\n",
    "from pandas_datareader import data\n",
    "import datetime\n",
    "import pandas as pd"
   ]
  },
  {
   "cell_type": "code",
   "execution_count": 42,
   "id": "214efde7",
   "metadata": {},
   "outputs": [],
   "source": [
    "num_assets = 6\n",
    "seed = 123\n",
    "start=datetime.datetime(2021,6,1)\n",
    "end=datetime.datetime(2021,6,30)\n",
    "# Generate expected return and covariance matrix from (random) time-series\n",
    "stocks = ['AAPL', 'NKE', 'GOOGL', 'AMZN', 'FB', 'MSFT']"
   ]
  },
  {
   "cell_type": "code",
   "execution_count": 43,
   "id": "8eb595c1-19d0-44cd-a171-bc7cc5fada2e",
   "metadata": {},
   "outputs": [],
   "source": [
    "# Import data\n",
    "df = data.DataReader(stocks, 'yahoo', start=start, end=end)"
   ]
  },
  {
   "cell_type": "code",
   "execution_count": 44,
   "id": "b3a1f303-b946-4c2e-9748-c42da3c9ae2c",
   "metadata": {},
   "outputs": [
    {
     "data": {
      "text/html": [
       "<div>\n",
       "<style scoped>\n",
       "    .dataframe tbody tr th:only-of-type {\n",
       "        vertical-align: middle;\n",
       "    }\n",
       "\n",
       "    .dataframe tbody tr th {\n",
       "        vertical-align: top;\n",
       "    }\n",
       "\n",
       "    .dataframe thead tr th {\n",
       "        text-align: left;\n",
       "    }\n",
       "\n",
       "    .dataframe thead tr:last-of-type th {\n",
       "        text-align: right;\n",
       "    }\n",
       "</style>\n",
       "<table border=\"1\" class=\"dataframe\">\n",
       "  <thead>\n",
       "    <tr>\n",
       "      <th>Attributes</th>\n",
       "      <th colspan=\"6\" halign=\"left\">Adj Close</th>\n",
       "      <th colspan=\"4\" halign=\"left\">Close</th>\n",
       "      <th>...</th>\n",
       "      <th colspan=\"4\" halign=\"left\">Open</th>\n",
       "      <th colspan=\"6\" halign=\"left\">Volume</th>\n",
       "    </tr>\n",
       "    <tr>\n",
       "      <th>Symbols</th>\n",
       "      <th>AAPL</th>\n",
       "      <th>NKE</th>\n",
       "      <th>GOOGL</th>\n",
       "      <th>AMZN</th>\n",
       "      <th>FB</th>\n",
       "      <th>MSFT</th>\n",
       "      <th>AAPL</th>\n",
       "      <th>NKE</th>\n",
       "      <th>GOOGL</th>\n",
       "      <th>AMZN</th>\n",
       "      <th>...</th>\n",
       "      <th>GOOGL</th>\n",
       "      <th>AMZN</th>\n",
       "      <th>FB</th>\n",
       "      <th>MSFT</th>\n",
       "      <th>AAPL</th>\n",
       "      <th>NKE</th>\n",
       "      <th>GOOGL</th>\n",
       "      <th>AMZN</th>\n",
       "      <th>FB</th>\n",
       "      <th>MSFT</th>\n",
       "    </tr>\n",
       "    <tr>\n",
       "      <th>Date</th>\n",
       "      <th></th>\n",
       "      <th></th>\n",
       "      <th></th>\n",
       "      <th></th>\n",
       "      <th></th>\n",
       "      <th></th>\n",
       "      <th></th>\n",
       "      <th></th>\n",
       "      <th></th>\n",
       "      <th></th>\n",
       "      <th></th>\n",
       "      <th></th>\n",
       "      <th></th>\n",
       "      <th></th>\n",
       "      <th></th>\n",
       "      <th></th>\n",
       "      <th></th>\n",
       "      <th></th>\n",
       "      <th></th>\n",
       "      <th></th>\n",
       "      <th></th>\n",
       "    </tr>\n",
       "  </thead>\n",
       "  <tbody>\n",
       "    <tr>\n",
       "      <th>2021-06-01</th>\n",
       "      <td>124.094070</td>\n",
       "      <td>134.509995</td>\n",
       "      <td>2381.179932</td>\n",
       "      <td>3218.649902</td>\n",
       "      <td>329.130005</td>\n",
       "      <td>246.927277</td>\n",
       "      <td>124.279999</td>\n",
       "      <td>134.509995</td>\n",
       "      <td>2381.179932</td>\n",
       "      <td>3218.649902</td>\n",
       "      <td>...</td>\n",
       "      <td>2374.439941</td>\n",
       "      <td>3243.500000</td>\n",
       "      <td>330.149994</td>\n",
       "      <td>251.229996</td>\n",
       "      <td>67637100</td>\n",
       "      <td>5577900</td>\n",
       "      <td>1167700</td>\n",
       "      <td>2430000</td>\n",
       "      <td>11765900</td>\n",
       "      <td>23213300</td>\n",
       "    </tr>\n",
       "    <tr>\n",
       "      <th>2021-06-02</th>\n",
       "      <td>124.872902</td>\n",
       "      <td>134.169998</td>\n",
       "      <td>2370.590088</td>\n",
       "      <td>3233.989990</td>\n",
       "      <td>329.149994</td>\n",
       "      <td>246.827469</td>\n",
       "      <td>125.059998</td>\n",
       "      <td>134.169998</td>\n",
       "      <td>2370.590088</td>\n",
       "      <td>3233.989990</td>\n",
       "      <td>...</td>\n",
       "      <td>2389.149902</td>\n",
       "      <td>3223.100098</td>\n",
       "      <td>330.380005</td>\n",
       "      <td>248.130005</td>\n",
       "      <td>59278900</td>\n",
       "      <td>5226100</td>\n",
       "      <td>1057900</td>\n",
       "      <td>2014500</td>\n",
       "      <td>11654300</td>\n",
       "      <td>19406700</td>\n",
       "    </tr>\n",
       "    <tr>\n",
       "      <th>2021-06-03</th>\n",
       "      <td>123.355186</td>\n",
       "      <td>134.169998</td>\n",
       "      <td>2347.580078</td>\n",
       "      <td>3187.010010</td>\n",
       "      <td>326.040009</td>\n",
       "      <td>245.240524</td>\n",
       "      <td>123.540001</td>\n",
       "      <td>134.169998</td>\n",
       "      <td>2347.580078</td>\n",
       "      <td>3187.010010</td>\n",
       "      <td>...</td>\n",
       "      <td>2345.729980</td>\n",
       "      <td>3204.229980</td>\n",
       "      <td>325.779999</td>\n",
       "      <td>245.220001</td>\n",
       "      <td>76229200</td>\n",
       "      <td>5027400</td>\n",
       "      <td>934800</td>\n",
       "      <td>2398300</td>\n",
       "      <td>12610800</td>\n",
       "      <td>25307700</td>\n",
       "    </tr>\n",
       "    <tr>\n",
       "      <th>2021-06-04</th>\n",
       "      <td>125.701668</td>\n",
       "      <td>133.740005</td>\n",
       "      <td>2393.570068</td>\n",
       "      <td>3206.219971</td>\n",
       "      <td>330.350006</td>\n",
       "      <td>250.310791</td>\n",
       "      <td>125.889999</td>\n",
       "      <td>133.740005</td>\n",
       "      <td>2393.570068</td>\n",
       "      <td>3206.219971</td>\n",
       "      <td>...</td>\n",
       "      <td>2369.270020</td>\n",
       "      <td>3212.000000</td>\n",
       "      <td>325.899994</td>\n",
       "      <td>247.759995</td>\n",
       "      <td>75169300</td>\n",
       "      <td>5217100</td>\n",
       "      <td>1222900</td>\n",
       "      <td>2249700</td>\n",
       "      <td>13289400</td>\n",
       "      <td>25281100</td>\n",
       "    </tr>\n",
       "    <tr>\n",
       "      <th>2021-06-07</th>\n",
       "      <td>125.711655</td>\n",
       "      <td>133.949997</td>\n",
       "      <td>2402.300049</td>\n",
       "      <td>3198.010010</td>\n",
       "      <td>336.579987</td>\n",
       "      <td>253.325027</td>\n",
       "      <td>125.900002</td>\n",
       "      <td>133.949997</td>\n",
       "      <td>2402.300049</td>\n",
       "      <td>3198.010010</td>\n",
       "      <td>...</td>\n",
       "      <td>2389.439941</td>\n",
       "      <td>3197.330078</td>\n",
       "      <td>329.480011</td>\n",
       "      <td>249.979996</td>\n",
       "      <td>71057600</td>\n",
       "      <td>3765000</td>\n",
       "      <td>1206000</td>\n",
       "      <td>2215800</td>\n",
       "      <td>20136700</td>\n",
       "      <td>23079200</td>\n",
       "    </tr>\n",
       "  </tbody>\n",
       "</table>\n",
       "<p>5 rows × 36 columns</p>\n",
       "</div>"
      ],
      "text/plain": [
       "Attributes   Adj Close                                                    \\\n",
       "Symbols           AAPL         NKE        GOOGL         AMZN          FB   \n",
       "Date                                                                       \n",
       "2021-06-01  124.094070  134.509995  2381.179932  3218.649902  329.130005   \n",
       "2021-06-02  124.872902  134.169998  2370.590088  3233.989990  329.149994   \n",
       "2021-06-03  123.355186  134.169998  2347.580078  3187.010010  326.040009   \n",
       "2021-06-04  125.701668  133.740005  2393.570068  3206.219971  330.350006   \n",
       "2021-06-07  125.711655  133.949997  2402.300049  3198.010010  336.579987   \n",
       "\n",
       "Attributes                   Close                                        ...  \\\n",
       "Symbols           MSFT        AAPL         NKE        GOOGL         AMZN  ...   \n",
       "Date                                                                      ...   \n",
       "2021-06-01  246.927277  124.279999  134.509995  2381.179932  3218.649902  ...   \n",
       "2021-06-02  246.827469  125.059998  134.169998  2370.590088  3233.989990  ...   \n",
       "2021-06-03  245.240524  123.540001  134.169998  2347.580078  3187.010010  ...   \n",
       "2021-06-04  250.310791  125.889999  133.740005  2393.570068  3206.219971  ...   \n",
       "2021-06-07  253.325027  125.900002  133.949997  2402.300049  3198.010010  ...   \n",
       "\n",
       "Attributes         Open                                         Volume  \\\n",
       "Symbols           GOOGL         AMZN          FB        MSFT      AAPL   \n",
       "Date                                                                     \n",
       "2021-06-01  2374.439941  3243.500000  330.149994  251.229996  67637100   \n",
       "2021-06-02  2389.149902  3223.100098  330.380005  248.130005  59278900   \n",
       "2021-06-03  2345.729980  3204.229980  325.779999  245.220001  76229200   \n",
       "2021-06-04  2369.270020  3212.000000  325.899994  247.759995  75169300   \n",
       "2021-06-07  2389.439941  3197.330078  329.480011  249.979996  71057600   \n",
       "\n",
       "Attributes                                                 \n",
       "Symbols         NKE    GOOGL     AMZN        FB      MSFT  \n",
       "Date                                                       \n",
       "2021-06-01  5577900  1167700  2430000  11765900  23213300  \n",
       "2021-06-02  5226100  1057900  2014500  11654300  19406700  \n",
       "2021-06-03  5027400   934800  2398300  12610800  25307700  \n",
       "2021-06-04  5217100  1222900  2249700  13289400  25281100  \n",
       "2021-06-07  3765000  1206000  2215800  20136700  23079200  \n",
       "\n",
       "[5 rows x 36 columns]"
      ]
     },
     "execution_count": 44,
     "metadata": {},
     "output_type": "execute_result"
    }
   ],
   "source": [
    "df.head()"
   ]
  },
  {
   "cell_type": "code",
   "execution_count": 45,
   "id": "69cc7f1c-f071-482c-af9b-c9017d69beca",
   "metadata": {},
   "outputs": [],
   "source": [
    "df = df['Adj Close']"
   ]
  },
  {
   "cell_type": "code",
   "execution_count": 46,
   "id": "a5ac0380-533c-4e53-bdc0-eb1c1b2c40dc",
   "metadata": {},
   "outputs": [
    {
     "data": {
      "text/html": [
       "<div>\n",
       "<style scoped>\n",
       "    .dataframe tbody tr th:only-of-type {\n",
       "        vertical-align: middle;\n",
       "    }\n",
       "\n",
       "    .dataframe tbody tr th {\n",
       "        vertical-align: top;\n",
       "    }\n",
       "\n",
       "    .dataframe thead th {\n",
       "        text-align: right;\n",
       "    }\n",
       "</style>\n",
       "<table border=\"1\" class=\"dataframe\">\n",
       "  <thead>\n",
       "    <tr style=\"text-align: right;\">\n",
       "      <th>Symbols</th>\n",
       "      <th>AAPL</th>\n",
       "      <th>NKE</th>\n",
       "      <th>GOOGL</th>\n",
       "      <th>AMZN</th>\n",
       "      <th>FB</th>\n",
       "      <th>MSFT</th>\n",
       "    </tr>\n",
       "    <tr>\n",
       "      <th>Date</th>\n",
       "      <th></th>\n",
       "      <th></th>\n",
       "      <th></th>\n",
       "      <th></th>\n",
       "      <th></th>\n",
       "      <th></th>\n",
       "    </tr>\n",
       "  </thead>\n",
       "  <tbody>\n",
       "    <tr>\n",
       "      <th>2021-06-01</th>\n",
       "      <td>124.094070</td>\n",
       "      <td>134.509995</td>\n",
       "      <td>2381.179932</td>\n",
       "      <td>3218.649902</td>\n",
       "      <td>329.130005</td>\n",
       "      <td>246.927277</td>\n",
       "    </tr>\n",
       "    <tr>\n",
       "      <th>2021-06-02</th>\n",
       "      <td>124.872902</td>\n",
       "      <td>134.169998</td>\n",
       "      <td>2370.590088</td>\n",
       "      <td>3233.989990</td>\n",
       "      <td>329.149994</td>\n",
       "      <td>246.827469</td>\n",
       "    </tr>\n",
       "    <tr>\n",
       "      <th>2021-06-03</th>\n",
       "      <td>123.355186</td>\n",
       "      <td>134.169998</td>\n",
       "      <td>2347.580078</td>\n",
       "      <td>3187.010010</td>\n",
       "      <td>326.040009</td>\n",
       "      <td>245.240524</td>\n",
       "    </tr>\n",
       "    <tr>\n",
       "      <th>2021-06-04</th>\n",
       "      <td>125.701668</td>\n",
       "      <td>133.740005</td>\n",
       "      <td>2393.570068</td>\n",
       "      <td>3206.219971</td>\n",
       "      <td>330.350006</td>\n",
       "      <td>250.310791</td>\n",
       "    </tr>\n",
       "    <tr>\n",
       "      <th>2021-06-07</th>\n",
       "      <td>125.711655</td>\n",
       "      <td>133.949997</td>\n",
       "      <td>2402.300049</td>\n",
       "      <td>3198.010010</td>\n",
       "      <td>336.579987</td>\n",
       "      <td>253.325027</td>\n",
       "    </tr>\n",
       "  </tbody>\n",
       "</table>\n",
       "</div>"
      ],
      "text/plain": [
       "Symbols           AAPL         NKE        GOOGL         AMZN          FB  \\\n",
       "Date                                                                       \n",
       "2021-06-01  124.094070  134.509995  2381.179932  3218.649902  329.130005   \n",
       "2021-06-02  124.872902  134.169998  2370.590088  3233.989990  329.149994   \n",
       "2021-06-03  123.355186  134.169998  2347.580078  3187.010010  326.040009   \n",
       "2021-06-04  125.701668  133.740005  2393.570068  3206.219971  330.350006   \n",
       "2021-06-07  125.711655  133.949997  2402.300049  3198.010010  336.579987   \n",
       "\n",
       "Symbols           MSFT  \n",
       "Date                    \n",
       "2021-06-01  246.927277  \n",
       "2021-06-02  246.827469  \n",
       "2021-06-03  245.240524  \n",
       "2021-06-04  250.310791  \n",
       "2021-06-07  253.325027  "
      ]
     },
     "execution_count": 46,
     "metadata": {},
     "output_type": "execute_result"
    }
   ],
   "source": [
    "df.head()"
   ]
  },
  {
   "cell_type": "code",
   "execution_count": 47,
   "id": "68f5028b-d80f-45e0-8b60-5d79ef023d42",
   "metadata": {},
   "outputs": [
    {
     "name": "stdout",
     "output_type": "stream",
     "text": [
      "[[124.09407043457031, 124.8729019165039, 123.35518646240234, 125.70166778564453, 125.71165466308594, 126.5503921508789, 126.93981170654297, 125.92134094238281, 127.15947723388672, 130.2847900390625, 129.44606018066406, 129.95529174804688, 131.59283447265625, 130.26483154296875, 132.10208129882812, 133.77955627441406, 133.49998474121094, 133.21041870117188, 132.91087341308594, 134.578369140625, 136.1260528564453, 136.75511169433594], [134.50999450683594, 134.1699981689453, 134.1699981689453, 133.74000549316406, 133.9499969482422, 133.35000610351562, 131.83999633789062, 130.97999572753906, 131.94000244140625, 131.36000061035156, 130.2899932861328, 130.39999389648438, 128.9199981689453, 128.41000366210938, 130.0800018310547, 132.47999572753906, 133.10000610351562, 133.60000610351562, 154.35000610351562, 152.36000061035156, 155.9499969482422, 154.49000549316406], [2381.179931640625, 2370.590087890625, 2347.580078125, 2393.570068359375, 2402.300048828125, 2398.43994140625, 2407.93994140625, 2435.1298828125, 2430.199951171875, 2448.909912109375, 2428.389892578125, 2415.449951171875, 2434.8701171875, 2402.219970703125, 2436.25, 2446.610107421875, 2442.5400390625, 2450.0, 2450.169921875, 2450.719970703125, 2445.449951171875, 2441.7900390625], [3218.64990234375, 3233.989990234375, 3187.010009765625, 3206.219970703125, 3198.010009765625, 3264.110107421875, 3281.14990234375, 3349.64990234375, 3346.830078125, 3383.8701171875, 3383.1298828125, 3415.25, 3489.239990234375, 3486.89990234375, 3453.9599609375, 3505.43994140625, 3503.820068359375, 3449.080078125, 3401.4599609375, 3443.889892578125, 3448.139892578125, 3440.159912109375], [329.1300048828125, 329.1499938964844, 326.0400085449219, 330.3500061035156, 336.5799865722656, 333.67999267578125, 330.25, 332.4599914550781, 331.260009765625, 336.7699890136719, 336.75, 331.0799865722656, 336.510009765625, 329.6600036621094, 332.2900085449219, 339.0299987792969, 340.5899963378906, 343.17999267578125, 341.3699951171875, 355.6400146484375, 351.8900146484375, 347.7099914550781], [246.92727661132812, 246.8274688720703, 245.2405242919922, 250.310791015625, 253.3250274658203, 252.08741760253906, 253.10545349121094, 256.74847412109375, 257.3972473144531, 259.3934326171875, 257.8663330078125, 256.8882141113281, 260.4014892578125, 258.9342956542969, 262.128173828125, 265.002685546875, 264.76312255859375, 266.180419921875, 264.51361083984375, 268.20654296875, 270.88140869140625, 270.38238525390625]]\n"
     ]
    }
   ],
   "source": [
    "df_data = []\n",
    "for stock in stocks:\n",
    "    df_data.append(df[stock].values.tolist())\n",
    "print(df_data)"
   ]
  },
  {
   "cell_type": "markdown",
   "id": "af6932ae",
   "metadata": {},
   "source": [
    "## $\\min\\limits_{x \\in \\{0, 1\\}^{n}} q \\ x^{T}\\Sigma x − \\mu^{T}x \\\\ \\text{or} \\\\ \\max\\limits_{x \\in \\{0, 1\\}^{n}} \\mu^{T}x - q \\ x^{T}\\Sigma x \\\\ \\text{subject to}: 1^{T} x = B$"
   ]
  },
  {
   "cell_type": "markdown",
   "id": "5ec96032",
   "metadata": {},
   "source": [
    "##### $\\text{ref: https://qiskit.org/documentation/tutorials/finance/01_portfolio_optimization.html} \\\\  x \\in \\{0, 1\\}^{n} \\ \\text{denotes the vector of binary decision variables, which indicate which assets to pick} \\left(x[i]=1\\right) \\text{and which not to pick} \\left(x[i]=0\\right), \\\\ \\mu \\in R^{n} \\ \\text{defines the expected returns for the assets}, \\\\ \\Sigma \\in R^{n \\times n} \\text{specifies the covariances between the assets}, \\\\ q \\gt 0 \\ \\text{controls the risk appetite of the decision maker}, \\\\ \\text{and B denotes the budget, i.e. the number of assets to be selected out of n.}$"
   ]
  },
  {
   "cell_type": "markdown",
   "id": "0ac13499",
   "metadata": {},
   "source": [
    "## $\\text{The equality constraint} \\ 1^{T}x = B \\ \\text{is mapped to a penalty term} \\ \\left(1^{T} x − B\\right)^{2}$"
   ]
  },
  {
   "cell_type": "markdown",
   "id": "98e4c994",
   "metadata": {},
   "source": [
    "## $\\text{Assumptions}:\\\\ \\ \\cdot \\text{all assets have the same price} \\left(\\text{normalized to 1}\\right) \\\\ \\ \\cdot \\text{the full budget B has to be spent, i.e., one has to select exactly B assets.}$"
   ]
  },
  {
   "cell_type": "code",
   "execution_count": 22,
   "id": "b63d9dee",
   "metadata": {},
   "outputs": [],
   "source": [
    "def divide_2(val_1, val_2):\n",
    "    if val_2 == 0:\n",
    "        if val_1 == 0:\n",
    "            return 1\n",
    "        return np.nan\n",
    "    return val_1 / val_2"
   ]
  },
  {
   "cell_type": "markdown",
   "id": "0c7400dd",
   "metadata": {},
   "source": [
    "## Calculate mean returns \n",
    "## $\\mu \\in R^{n} \\ \\text{defines the expected returns for the assets}$"
   ]
  },
  {
   "cell_type": "code",
   "execution_count": 5,
   "id": "b4b37c7a",
   "metadata": {},
   "outputs": [],
   "source": [
    "div_func = np.vectorize(divide_2)\n",
    "period_returns = div_func(np.array(data)[:, 1:], np.array(data)[:, :-1]) - 1\n",
    "mu = np.mean(period_returns, axis=1)"
   ]
  },
  {
   "cell_type": "markdown",
   "id": "6972893b",
   "metadata": {},
   "source": [
    "## Calculate mean covariance\n",
    "##  $\\Sigma \\in R^{n \\times n} \\text{specifies the covariances between the assets}$"
   ]
  },
  {
   "cell_type": "code",
   "execution_count": 49,
   "id": "64ac8b34",
   "metadata": {},
   "outputs": [],
   "source": [
    "div_func = np.vectorize(divide_2)\n",
    "period_returns = div_func(np.array(df_data)[:, 1:], np.array(df_data)[:, :-1]) - 1\n",
    "sigma = np.cov(period_returns)"
   ]
  },
  {
   "cell_type": "markdown",
   "id": "8dda11f1",
   "metadata": {},
   "source": [
    "## plot sigma"
   ]
  },
  {
   "cell_type": "code",
   "execution_count": 27,
   "id": "d135cbab",
   "metadata": {},
   "outputs": [],
   "source": [
    "import matplotlib.pyplot as plt"
   ]
  },
  {
   "cell_type": "code",
   "execution_count": 48,
   "id": "d7dc10a2",
   "metadata": {
    "scrolled": true
   },
   "outputs": [],
   "source": [
    "div_func = np.vectorize(divide_2)\n",
    "period_returns = div_func(np.array(df_data)[:, 1:], np.array(df_data)[:, :-1]) - 1\n",
    "mu = np.mean(period_returns, axis=1)"
   ]
  },
  {
   "cell_type": "markdown",
   "id": "05533b29",
   "metadata": {},
   "source": [
    "## $q \\gt 0 \\ \\text{controls the risk appetite of the decision maker}$"
   ]
  },
  {
   "cell_type": "code",
   "execution_count": 24,
   "id": "3bb1edaa",
   "metadata": {},
   "outputs": [],
   "source": [
    "q = 0.5 # set risk factor"
   ]
  },
  {
   "cell_type": "markdown",
   "id": "57c01a0d",
   "metadata": {},
   "source": [
    "## $\\text{B denotes the budget, i.e. the number of assets to be selected out of n.}$"
   ]
  },
  {
   "cell_type": "code",
   "execution_count": 26,
   "id": "43df4d2b",
   "metadata": {},
   "outputs": [],
   "source": [
    "budget = 2 # set budget (B)"
   ]
  },
  {
   "cell_type": "markdown",
   "id": "e9e15baa",
   "metadata": {},
   "source": [
    "### ref: https://qiskit.org/documentation/tutorials/finance/01_portfolio_optimization.html"
   ]
  },
  {
   "cell_type": "code",
   "execution_count": 50,
   "id": "dcdd157f",
   "metadata": {},
   "outputs": [],
   "source": [
    "penalty = num_assets # set parameter to scale the budget penalty term"
   ]
  },
  {
   "cell_type": "markdown",
   "id": "64677476",
   "metadata": {},
   "source": [
    "## Model"
   ]
  },
  {
   "cell_type": "code",
   "execution_count": 29,
   "id": "260961f3",
   "metadata": {},
   "outputs": [],
   "source": [
    "from docplex.mp.model import Model"
   ]
  },
  {
   "cell_type": "code",
   "execution_count": 51,
   "id": "d8b3d53b",
   "metadata": {},
   "outputs": [],
   "source": [
    "mdl = Model('portfolio model')\n",
    "#x = mdl.binary_var_list(num_assets)"
   ]
  },
  {
   "cell_type": "code",
   "execution_count": 52,
   "id": "5f7ba56f",
   "metadata": {
    "scrolled": true
   },
   "outputs": [
    {
     "name": "stdout",
     "output_type": "stream",
     "text": [
      "[docplex.mp.Var(type=B,name='x_0'), docplex.mp.Var(type=B,name='x_1'), docplex.mp.Var(type=B,name='x_2'), docplex.mp.Var(type=B,name='x_3'), docplex.mp.Var(type=B,name='x_4'), docplex.mp.Var(type=B,name='x_5')]\n"
     ]
    }
   ],
   "source": [
    "x = list()\n",
    "for i in range(num_assets):\n",
    "    x.append(mdl.binary_var(name=\"x_{0}\".format(i)))\n",
    "print(x)"
   ]
  },
  {
   "cell_type": "markdown",
   "id": "41f9344b",
   "metadata": {},
   "source": [
    "## $\\max\\limits_{x \\in \\{0, 1\\}}  \\mu^{T} * x - q * x^{T} * \\Sigma * x \\\\ \\text{linear} = c^{T}x, \\text{qudratic} = x^{T}Qx = \\sum\\limits_{i, j = 1}^{n} x_{i}^{T} \\Sigma_{ij} x_{j} \\\\ \\text{objective} = \\text{linear - }\\left(\\text{risk_factor * qudratic}\\right)$"
   ]
  },
  {
   "cell_type": "code",
   "execution_count": 53,
   "id": "52eedd55",
   "metadata": {},
   "outputs": [],
   "source": [
    "linear = np.dot(mu, x) # mu^T * x\n",
    "qudratic = mdl.sum([x[i]*sigma[i][j]*x[j] for i in range(num_assets) for j in range(num_assets)])\n",
    "objective = linear - q * qudratic\n",
    "mdl.maximize(objective)"
   ]
  },
  {
   "cell_type": "markdown",
   "id": "21f230bf",
   "metadata": {},
   "source": [
    "## budget constraint:  $\\sum\\limits_{i =1}^{n} 1^{T}x_{i} == \\text{budget}$"
   ]
  },
  {
   "cell_type": "code",
   "execution_count": 54,
   "id": "30af0528",
   "metadata": {
    "scrolled": true
   },
   "outputs": [
    {
     "data": {
      "text/plain": [
       "docplex.mp.LinearConstraint[budget](x_0+x_1+x_2+x_3+x_4+x_5,EQ,2)"
      ]
     },
     "execution_count": 54,
     "metadata": {},
     "output_type": "execute_result"
    }
   ],
   "source": [
    "cost = mdl.sum([x[i] for i in range(num_assets)])\n",
    "mdl.add_constraint(cost == budget, ctname='budget')"
   ]
  },
  {
   "cell_type": "markdown",
   "id": "db0c8cc9",
   "metadata": {
    "jp-MarkdownHeadingCollapsed": true,
    "tags": []
   },
   "source": [
    "## converting to Quadratic Program"
   ]
  },
  {
   "cell_type": "markdown",
   "id": "dcd1cd4a",
   "metadata": {},
   "source": [
    "## removing the constraint to create the QUBO"
   ]
  },
  {
   "cell_type": "code",
   "execution_count": 35,
   "id": "776351ea",
   "metadata": {},
   "outputs": [],
   "source": [
    "from qiskit_optimization.translators import from_docplex_mp"
   ]
  },
  {
   "cell_type": "code",
   "execution_count": 55,
   "id": "f13d09f9",
   "metadata": {},
   "outputs": [],
   "source": [
    "mod = from_docplex_mp(mdl)"
   ]
  },
  {
   "cell_type": "code",
   "execution_count": 56,
   "id": "bdb236f3",
   "metadata": {},
   "outputs": [
    {
     "name": "stdout",
     "output_type": "stream",
     "text": [
      "\\ This file has been generated by DOcplex\n",
      "\\ ENCODING=ISO-8859-1\n",
      "\\Problem name: portfolio model\n",
      "\n",
      "Maximize\n",
      " obj: 0.004682261762 x_0 + 0.007159640330 x_1 + 0.001227757962 x_2\n",
      "      + 0.003234622966 x_3 + 0.002725277591 x_4 + 0.004364434718 x_5 + [\n",
      "      - 0.000095526386 x_0^2 + 0.000075990183 x_0*x_1 - 0.000091374658 x_0*x_2\n",
      "      - 0.000085351262 x_0*x_3 - 0.000138108962 x_0*x_4 - 0.000097158652 x_0*x_5\n",
      "      - 0.001244762113 x_1^2 + 0.000012725679 x_1*x_2 + 0.000326101317 x_1*x_3\n",
      "      + 0.000149750656 x_1*x_4 + 0.000144573046 x_1*x_5 - 0.000063470332 x_2^2\n",
      "      - 0.000047494852 x_2*x_3 - 0.000129234354 x_2*x_4 - 0.000111986840 x_2*x_5\n",
      "      - 0.000126959488 x_3^2 - 0.000100278531 x_3*x_4 - 0.000069931804 x_3*x_5\n",
      "      - 0.000226327311 x_4^2 - 0.000182207269 x_4*x_5 - 0.000071725030 x_5^2 ]/2\n",
      "Subject To\n",
      " budget: x_0 + x_1 + x_2 + x_3 + x_4 + x_5 = 2\n",
      "\n",
      "Bounds\n",
      " 0 <= x_0 <= 1\n",
      " 0 <= x_1 <= 1\n",
      " 0 <= x_2 <= 1\n",
      " 0 <= x_3 <= 1\n",
      " 0 <= x_4 <= 1\n",
      " 0 <= x_5 <= 1\n",
      "\n",
      "Binaries\n",
      " x_0 x_1 x_2 x_3 x_4 x_5\n",
      "End\n",
      "\n"
     ]
    }
   ],
   "source": [
    "print(mod.export_as_lp_string())"
   ]
  },
  {
   "cell_type": "markdown",
   "id": "5b43b7dc",
   "metadata": {},
   "source": [
    "## QAOA"
   ]
  },
  {
   "cell_type": "code",
   "execution_count": 38,
   "id": "dde9fecc",
   "metadata": {},
   "outputs": [],
   "source": [
    "from qiskit.utils import algorithm_globals, QuantumInstance\n",
    "from qiskit_optimization.algorithms import MinimumEigenOptimizer\n",
    "from qiskit_optimization.converters import QuadraticProgramToQubo\n",
    "from qiskit.algorithms import QAOA\n",
    "from qiskit.algorithms.optimizers import ADAM, COBYLA\n",
    "from qiskit import Aer"
   ]
  },
  {
   "cell_type": "code",
   "execution_count": 57,
   "id": "150b37f8",
   "metadata": {},
   "outputs": [],
   "source": [
    "def index_to_selection(i, num_assets):\n",
    "    s = \"{0:b}\".format(i).rjust(num_assets)\n",
    "    x = np.array([1 if s[i]=='1' else 0 for i in reversed(range(num_assets))])\n",
    "    return x"
   ]
  },
  {
   "cell_type": "code",
   "execution_count": 58,
   "id": "86332f0a",
   "metadata": {},
   "outputs": [],
   "source": [
    "def print_result(result):\n",
    "    selection = result.x\n",
    "    res = list()\n",
    "    for i in range(len(selection)):\n",
    "        if selection[i]:\n",
    "            res.append(stocks[i])\n",
    "    value = result.fval\n",
    "    print('Optimal: selection {}, value {:.4f}'.format(selection, value))\n",
    "    print('Optimal: selected stocks {}'.format(res))\n",
    "\n",
    "    eigenstate = result.min_eigen_solver_result.eigenstate\n",
    "    eigenvector = eigenstate if isinstance(eigenstate, np.ndarray) else eigenstate.to_matrix()\n",
    "    probabilities = np.abs(eigenvector)**2\n",
    "    i_sorted = reversed(np.argsort(probabilities))\n",
    "    print('\\n----------------- Full result ---------------------')\n",
    "    print('selection\\tvalue\\t\\tprobability')\n",
    "    print('---------------------------------------------------')\n",
    "    for i in i_sorted:\n",
    "        x = index_to_selection(i, num_assets)\n",
    "        value = QuadraticProgramToQubo().convert(mod).objective.evaluate(x)\n",
    "        probability = probabilities[i]\n",
    "        print('%10s\\t%.4f\\t\\t%.4f' %(x, value, probability))"
   ]
  },
  {
   "cell_type": "code",
   "execution_count": 59,
   "id": "12ecbe3a",
   "metadata": {
    "scrolled": false
   },
   "outputs": [
    {
     "name": "stdout",
     "output_type": "stream",
     "text": [
      "Optimal: selection [1. 1. 0. 0. 0. 0.], value 0.0112\n",
      "Optimal: selected stocks ['AAPL', 'NKE']\n",
      "\n",
      "----------------- Full result ---------------------\n",
      "selection\tvalue\t\tprobability\n",
      "---------------------------------------------------\n",
      "[1 0 0 0 0 1]\t-0.0089\t\t0.0564\n",
      "[0 1 0 1 0 0]\t-0.0099\t\t0.0564\n",
      "[1 0 0 0 1 0]\t-0.0072\t\t0.0564\n",
      "[1 0 1 0 0 0]\t-0.0058\t\t0.0564\n",
      "[0 1 0 0 0 1]\t-0.0109\t\t0.0564\n",
      "[0 1 0 0 1 0]\t-0.0092\t\t0.0564\n",
      "[0 0 1 0 0 1]\t-0.0055\t\t0.0564\n",
      "[1 1 0 0 0 0]\t-0.0112\t\t0.0564\n",
      "[0 0 0 0 1 1]\t-0.0068\t\t0.0564\n",
      "[0 0 1 0 1 0]\t-0.0037\t\t0.0564\n",
      "[0 0 0 1 0 1]\t-0.0075\t\t0.0564\n",
      "[1 0 0 1 0 0]\t-0.0078\t\t0.0564\n",
      "[0 0 1 1 0 0]\t-0.0043\t\t0.0564\n",
      "[0 0 0 1 1 0]\t-0.0057\t\t0.0564\n",
      "[0 1 1 0 0 0]\t-0.0077\t\t0.0563\n",
      "[1 0 0 0 0 0]\t1.0206\t\t0.0127\n",
      "[0 0 0 0 0 1]\t1.0209\t\t0.0127\n",
      "[0 0 0 0 1 0]\t1.0226\t\t0.0127\n",
      "[0 1 0 0 0 0]\t1.0187\t\t0.0127\n",
      "[0 0 0 1 0 0]\t1.0220\t\t0.0127\n",
      "[0 0 1 0 0 0]\t1.0240\t\t0.0127\n",
      "[0 0 0 0 0 0]\t4.1008\t\t0.0111\n",
      "[1 1 0 0 0 1]\t1.0096\t\t0.0024\n",
      "[0 1 0 1 0 1]\t1.0110\t\t0.0024\n",
      "[1 1 0 1 0 0]\t1.0107\t\t0.0024\n",
      "[1 1 0 0 1 0]\t1.0114\t\t0.0024\n",
      "[0 1 0 1 1 0]\t1.0127\t\t0.0024\n",
      "[0 1 0 0 1 1]\t1.0117\t\t0.0024\n",
      "[0 1 1 0 0 1]\t1.0131\t\t0.0024\n",
      "[1 1 1 0 0 0]\t1.0128\t\t0.0024\n",
      "[0 1 1 1 0 0]\t1.0141\t\t0.0024\n",
      "[1 0 0 1 0 1]\t1.0132\t\t0.0024\n",
      "[1 0 0 0 1 1]\t1.0138\t\t0.0024\n",
      "[0 1 1 0 1 0]\t1.0148\t\t0.0024\n",
      "[1 0 1 0 0 1]\t1.0152\t\t0.0024\n",
      "[1 0 0 1 1 0]\t1.0149\t\t0.0024\n",
      "[0 0 0 1 1 1]\t1.0153\t\t0.0024\n",
      "[1 0 1 1 0 0]\t1.0163\t\t0.0024\n",
      "[0 0 1 1 0 1]\t1.0166\t\t0.0024\n",
      "[1 0 1 0 1 0]\t1.0169\t\t0.0024\n",
      "[0 0 1 0 1 1]\t1.0173\t\t0.0024\n",
      "[0 0 1 1 1 0]\t1.0183\t\t0.0024\n",
      "[0 1 1 1 1 0]\t4.0871\t\t0.0011\n",
      "[0 1 1 1 0 1]\t4.0854\t\t0.0011\n",
      "[0 1 0 1 1 1]\t4.0840\t\t0.0011\n",
      "[1 1 0 1 0 1]\t4.0819\t\t0.0011\n",
      "[1 1 0 1 1 0]\t4.0837\t\t0.0011\n",
      "[1 1 1 1 0 0]\t4.0851\t\t0.0011\n",
      "[0 1 1 0 1 1]\t4.0861\t\t0.0011\n",
      "[1 1 1 0 1 0]\t4.0858\t\t0.0011\n",
      "[1 1 1 0 0 1]\t4.0841\t\t0.0011\n",
      "[1 1 0 0 1 1]\t4.0827\t\t0.0011\n",
      "[1 0 1 1 0 1]\t4.0877\t\t0.0011\n",
      "[1 0 1 1 1 0]\t4.0894\t\t0.0011\n",
      "[0 0 1 1 1 1]\t4.0898\t\t0.0011\n",
      "[1 0 1 0 1 1]\t4.0884\t\t0.0011\n",
      "[1 0 0 1 1 1]\t4.0863\t\t0.0011\n",
      "[1 0 1 1 1 1]\t9.2113\t\t0.0003\n",
      "[1 1 1 0 1 1]\t9.2076\t\t0.0003\n",
      "[1 1 0 1 1 1]\t9.2054\t\t0.0003\n",
      "[1 1 1 1 0 1]\t9.2068\t\t0.0003\n",
      "[1 1 1 1 1 0]\t9.2086\t\t0.0003\n",
      "[0 1 1 1 1 1]\t9.2089\t\t0.0003\n",
      "[1 1 1 1 1 1]\t16.3807\t\t0.0002\n"
     ]
    }
   ],
   "source": [
    "algorithm_globals.random_seed = 1234\n",
    "backend = Aer.get_backend('statevector_simulator')\n",
    "cobyla = COBYLA()\n",
    "cobyla.set_options(maxiter=250)\n",
    "quantum_instance = QuantumInstance(backend=backend, seed_simulator=seed, seed_transpiler=seed)\n",
    "qaoa_mes = QAOA(optimizer=cobyla, reps=3, quantum_instance=quantum_instance)\n",
    "eigen_optimizer = MinimumEigenOptimizer(min_eigen_solver = qaoa_mes)\n",
    "result = eigen_optimizer.solve(mod)\n",
    "print_result(result)"
   ]
  },
  {
   "cell_type": "markdown",
   "id": "atomic-porter",
   "metadata": {},
   "source": [
    "## If you have any queries on this notebook please reach to me bala.na@hcl.com"
   ]
  }
 ],
 "metadata": {
  "kernelspec": {
   "display_name": "Python 3",
   "language": "python",
   "name": "python3"
  },
  "language_info": {
   "codemirror_mode": {
    "name": "ipython",
    "version": 3
   },
   "file_extension": ".py",
   "mimetype": "text/x-python",
   "name": "python",
   "nbconvert_exporter": "python",
   "pygments_lexer": "ipython3",
   "version": "3.9.2"
  },
  "widgets": {
   "application/vnd.jupyter.widget-state+json": {
    "state": {},
    "version_major": 2,
    "version_minor": 0
   }
  }
 },
 "nbformat": 4,
 "nbformat_minor": 5
}
