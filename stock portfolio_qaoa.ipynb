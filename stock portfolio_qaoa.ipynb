{
 "cells": [
  {
   "cell_type": "markdown",
   "id": "rough-psychology",
   "metadata": {},
   "source": [
    "## This notebook is part of self learning Quantum Computing Algorithms"
   ]
  },
  {
   "cell_type": "markdown",
   "id": "subjective-bracelet",
   "metadata": {},
   "source": [
    "## Solve Stock Portfolio using QAOA "
   ]
  },
  {
   "cell_type": "code",
   "execution_count": 1,
   "id": "64f69981",
   "metadata": {},
   "outputs": [],
   "source": [
    "import numpy as np\n",
    "from qiskit_finance.data_providers import RandomDataProvider\n",
    "import datetime\n",
    "import pandas as pd"
   ]
  },
  {
   "cell_type": "code",
   "execution_count": 2,
   "id": "214efde7",
   "metadata": {},
   "outputs": [],
   "source": [
    "num_assets = 4\n",
    "seed = 123\n",
    "start=datetime.datetime(2021,6,1)\n",
    "end=datetime.datetime(2021,6,30)\n",
    "# Generate expected return and covariance matrix from (random) time-series\n",
    "stocks = [(\"TICKER%s\" % i) for i in range(num_assets)]"
   ]
  },
  {
   "cell_type": "code",
   "execution_count": 4,
   "id": "1d26d781",
   "metadata": {
    "scrolled": true
   },
   "outputs": [
    {
     "name": "stdout",
     "output_type": "stream",
     "text": [
      "[[16.01087864965215, 15.643091998184266, 16.931017259473514, 17.12499167860613, 18.045222578245983, 18.622326369503234, 17.985862723132257, 18.52781494354255, 18.211219492376735, 17.888830376217772, 17.98599769488823, 16.460067288369277, 17.652233392470936, 16.981143717296828, 17.981413136956288, 18.117734260809407, 19.649767340438203, 18.989797926646382, 18.678003070176462, 19.01577219673529, 16.808301098535484, 17.636222540094224, 19.17785293478484, 20.30465972804987, 21.059429372362118, 20.913451479246895, 22.19535370630661, 23.26938432827855, 23.662005172855824], [62.63823312783908, 61.408000932348635, 62.63423022516978, 60.4621863384846, 60.09203899263228, 60.25641906230695, 61.11630024691969, 62.8779614834315, 63.87128525938331, 63.57976383328487, 64.30789139117401, 63.04629107425432, 64.47622960094303, 64.31975427611363, 63.645995126126564, 63.00693502569436, 62.945573698073986, 62.55278877550404, 64.84269872281862, 64.12451757493803, 64.157125318095, 64.18517521368064, 64.21344733642037, 64.26879319837307, 63.78723034018313, 63.20382283971902, 62.341662337647726, 60.85348772439614, 61.069794557505354], [29.984376350695875, 29.441292209683247, 28.882677170639464, 28.566194341316816, 28.105554600077912, 26.669284851052968, 28.034392883089886, 28.47339277064735, 27.76169774344932, 28.058869504989172, 27.62041223237344, 27.40877479899876, 27.772738630577873, 28.725703122552407, 30.245227251793686, 31.949136700742724, 31.700277993311783, 31.200529402178272, 31.30012690410029, 31.428470116388603, 30.69424822394374, 30.07377293570898, 30.88704665612983, 32.528847669870586, 32.30234682149142, 31.654381610496078, 31.371010403871885, 30.375879043901843, 30.103007274112535], [79.91865703841064, 81.15323463547224, 81.30412266769268, 81.78524219502691, 81.63648466261742, 82.95215036917777, 81.7298047669712, 81.42621342667097, 80.25252475099077, 81.07879825800246, 81.92912054762549, 81.41335295461222, 83.07146627291571, 82.77420367727646, 81.39082655732808, 81.1096220524919, 81.46964256243298, 81.23525054750591, 83.50077114737311, 84.35615779815306, 86.08743723687589, 87.47332267996683, 85.78753800159808, 85.40977939493293, 82.68129370806008, 82.03489697215312, 83.15000122793684, 82.3067901319974, 81.67010169403123]]\n"
     ]
    }
   ],
   "source": [
    "length = (end - start).days\n",
    "generator = np.random.default_rng(123)\n",
    "data = []\n",
    "for _ in stocks:\n",
    "    #row sum(sum revious row value with current and so on...) + add a constant over each row\n",
    "    d_f = pd.DataFrame(generator.standard_normal(length)).cumsum() + generator.integers(1, 101)\n",
    "    #pick the maximum value between actual and zero... if value in dataframe is +ve will returned else returned 0\n",
    "    trimmed = np.maximum(d_f[0].values, np.zeros(len(d_f[0].values)))\n",
    "    trimmed_list = trimmed.tolist()\n",
    "    # find index of first 0 element else return -1\n",
    "    zero_idx = next((idx for idx, val in enumerate(trimmed_list) if val == 0), -1)\n",
    "    if zero_idx >= 0:\n",
    "        # set to 0 all values after first 0\n",
    "        trimmed_list = [val if idx < zero_idx else 0 for idx, val in enumerate(trimmed_list)]\n",
    "    data.append(trimmed_list)\n",
    "print(data)"
   ]
  },
  {
   "cell_type": "markdown",
   "id": "af6932ae",
   "metadata": {},
   "source": [
    "## $\\min\\limits_{x \\in \\{0, 1\\}^{n}} q \\ x^{T}\\Sigma x − \\mu^{T}x \\\\ \\text{or} \\\\ \\max\\limits_{x \\in \\{0, 1\\}^{n}} \\mu^{T}x - q \\ x^{T}\\Sigma x \\\\ \\text{subject to}: 1^{T} x = B$"
   ]
  },
  {
   "cell_type": "markdown",
   "id": "5ec96032",
   "metadata": {},
   "source": [
    "##### $\\text{ref: https://qiskit.org/documentation/tutorials/finance/01_portfolio_optimization.html} \\\\  x \\in \\{0, 1\\}^{n} \\ \\text{denotes the vector of binary decision variables, which indicate which assets to pick} \\left(x[i]=1\\right) \\text{and which not to pick} \\left(x[i]=0\\right), \\\\ \\mu \\in R^{n} \\ \\text{defines the expected returns for the assets}, \\\\ \\Sigma \\in R^{n \\times n} \\text{specifies the covariances between the assets}, \\\\ q \\gt 0 \\ \\text{controls the risk appetite of the decision maker}, \\\\ \\text{and B denotes the budget, i.e. the number of assets to be selected out of n.}$"
   ]
  },
  {
   "cell_type": "markdown",
   "id": "0ac13499",
   "metadata": {},
   "source": [
    "## $\\text{The equality constraint} \\ 1^{T}x = B \\ \\text{is mapped to a penalty term} \\ \\left(1^{T} x − B\\right)^{2}$"
   ]
  },
  {
   "cell_type": "markdown",
   "id": "98e4c994",
   "metadata": {},
   "source": [
    "## $\\text{Assumptions}:\\\\ \\ \\cdot \\text{all assets have the same price} \\left(\\text{normalized to 1}\\right) \\\\ \\ \\cdot \\text{the full budget B has to be spent, i.e., one has to select exactly B assets.}$"
   ]
  },
  {
   "cell_type": "code",
   "execution_count": 5,
   "id": "b63d9dee",
   "metadata": {},
   "outputs": [],
   "source": [
    "def divide_2(val_1, val_2):\n",
    "    if val_2 == 0:\n",
    "        if val_1 == 0:\n",
    "            return 1\n",
    "        return np.nan\n",
    "    return val_1 / val_2"
   ]
  },
  {
   "cell_type": "markdown",
   "id": "0c7400dd",
   "metadata": {},
   "source": [
    "## Calculate mean returns \n",
    "## $\\mu \\in R^{n} \\ \\text{defines the expected returns for the assets}$"
   ]
  },
  {
   "cell_type": "code",
   "execution_count": 54,
   "id": "27fef456",
   "metadata": {},
   "outputs": [],
   "source": [
    "#mu = data.get_period_return_mean_vector()"
   ]
  },
  {
   "cell_type": "code",
   "execution_count": 6,
   "id": "b4b37c7a",
   "metadata": {},
   "outputs": [],
   "source": [
    "div_func = np.vectorize(divide_2)\n",
    "period_returns = div_func(np.array(data)[:, 1:], np.array(data)[:, :-1]) - 1\n",
    "mu = np.mean(period_returns, axis=1)"
   ]
  },
  {
   "cell_type": "markdown",
   "id": "6972893b",
   "metadata": {},
   "source": [
    "## Calculate mean covariance\n",
    "##  $\\Sigma \\in R^{n \\times n} \\text{specifies the covariances between the assets}$"
   ]
  },
  {
   "cell_type": "code",
   "execution_count": 55,
   "id": "73791b80",
   "metadata": {},
   "outputs": [],
   "source": [
    "#sigma = data.get_period_return_covariance_matrix()"
   ]
  },
  {
   "cell_type": "code",
   "execution_count": 7,
   "id": "64ac8b34",
   "metadata": {},
   "outputs": [],
   "source": [
    "div_func = np.vectorize(divide_2)\n",
    "period_returns = div_func(np.array(data)[:, 1:], np.array(data)[:, :-1]) - 1\n",
    "sigma = np.cov(period_returns)"
   ]
  },
  {
   "cell_type": "markdown",
   "id": "8dda11f1",
   "metadata": {},
   "source": [
    "## plot sigma"
   ]
  },
  {
   "cell_type": "code",
   "execution_count": 8,
   "id": "d135cbab",
   "metadata": {},
   "outputs": [],
   "source": [
    "import matplotlib.pyplot as plt"
   ]
  },
  {
   "cell_type": "code",
   "execution_count": 9,
   "id": "d7dc10a2",
   "metadata": {
    "scrolled": true
   },
   "outputs": [
    {
     "data": {
      "image/png": "[encoded data removed]",
      "text/plain": [
       "<Figure size 432x288 with 1 Axes>"
      ]
     },
     "metadata": {
      "needs_background": "light"
     },
     "output_type": "display_data"
    }
   ],
   "source": [
    "plt.imshow(sigma, interpolation='nearest')\n",
    "plt.show()"
   ]
  },
  {
   "cell_type": "markdown",
   "id": "05533b29",
   "metadata": {},
   "source": [
    "## $q \\gt 0 \\ \\text{controls the risk appetite of the decision maker}$"
   ]
  },
  {
   "cell_type": "code",
   "execution_count": 10,
   "id": "3bb1edaa",
   "metadata": {},
   "outputs": [],
   "source": [
    "q = 0.5 # set risk factor"
   ]
  },
  {
   "cell_type": "markdown",
   "id": "57c01a0d",
   "metadata": {},
   "source": [
    "## $\\text{B denotes the budget, i.e. the number of assets to be selected out of n.}$"
   ]
  },
  {
   "cell_type": "code",
   "execution_count": 11,
   "id": "43df4d2b",
   "metadata": {},
   "outputs": [],
   "source": [
    "budget = 2 # set budget (B)"
   ]
  },
  {
   "cell_type": "markdown",
   "id": "e9e15baa",
   "metadata": {},
   "source": [
    "### ref: https://qiskit.org/documentation/tutorials/finance/01_portfolio_optimization.html"
   ]
  },
  {
   "cell_type": "code",
   "execution_count": 12,
   "id": "dcdd157f",
   "metadata": {},
   "outputs": [],
   "source": [
    "penalty = num_assets # set parameter to scale the budget penalty term"
   ]
  },
  {
   "cell_type": "markdown",
   "id": "64677476",
   "metadata": {},
   "source": [
    "## Model"
   ]
  },
  {
   "cell_type": "code",
   "execution_count": 15,
   "id": "260961f3",
   "metadata": {},
   "outputs": [],
   "source": [
    "from docplex.mp.model import Model"
   ]
  },
  {
   "cell_type": "code",
   "execution_count": 16,
   "id": "d8b3d53b",
   "metadata": {},
   "outputs": [],
   "source": [
    "mdl = Model('portfolio model')\n",
    "#x = mdl.binary_var_list(num_assets)"
   ]
  },
  {
   "cell_type": "code",
   "execution_count": 17,
   "id": "5f7ba56f",
   "metadata": {
    "scrolled": true
   },
   "outputs": [
    {
     "name": "stdout",
     "output_type": "stream",
     "text": [
      "[docplex.mp.Var(type=B,name='x_0'), docplex.mp.Var(type=B,name='x_1'), docplex.mp.Var(type=B,name='x_2'), docplex.mp.Var(type=B,name='x_3')]\n"
     ]
    }
   ],
   "source": [
    "x = list()\n",
    "for i in range(num_assets):\n",
    "    x.append(mdl.binary_var(name=\"x_{0}\".format(i)))\n",
    "print(x)"
   ]
  },
  {
   "cell_type": "markdown",
   "id": "41f9344b",
   "metadata": {},
   "source": [
    "## $\\max\\limits_{x \\in \\{0, 1\\}}  \\mu^{T} * x - q * x^{T} * \\Sigma * x \\\\ \\text{linear} = c^{T}x, \\text{qudratic} = x^{T}Qx = \\sum\\limits_{i, j = 1}^{n} x_{i}^{T} \\Sigma_{ij} x_{j} \\\\ \\text{objective} = \\text{linear - }\\left(\\text{risk_factor * qudratic}\\right)$"
   ]
  },
  {
   "cell_type": "code",
   "execution_count": 18,
   "id": "52eedd55",
   "metadata": {},
   "outputs": [],
   "source": [
    "linear = np.dot(mu, x) # mu^T * x\n",
    "qudratic = mdl.sum([x[i]*sigma[i][j]*x[j] for i in range(num_assets) for j in range(num_assets)])\n",
    "objective = linear - q * qudratic\n",
    "mdl.maximize(objective)"
   ]
  },
  {
   "cell_type": "markdown",
   "id": "21f230bf",
   "metadata": {},
   "source": [
    "## budget constraint:  $\\sum\\limits_{i =1}^{n} 1^{T}x_{i} == \\text{budget}$"
   ]
  },
  {
   "cell_type": "code",
   "execution_count": 19,
   "id": "30af0528",
   "metadata": {
    "scrolled": true
   },
   "outputs": [
    {
     "data": {
      "text/plain": [
       "docplex.mp.LinearConstraint[budget](x_0+x_1+x_2+x_3,EQ,2)"
      ]
     },
     "execution_count": 19,
     "metadata": {},
     "output_type": "execute_result"
    }
   ],
   "source": [
    "cost = mdl.sum([x[i] for i in range(num_assets)])\n",
    "mdl.add_constraint(cost == budget, ctname='budget')"
   ]
  },
  {
   "cell_type": "markdown",
   "id": "db0c8cc9",
   "metadata": {},
   "source": [
    "## converting to Quadratic Program"
   ]
  },
  {
   "cell_type": "markdown",
   "id": "dcd1cd4a",
   "metadata": {},
   "source": [
    "## removing the constraint to create the QUBO"
   ]
  },
  {
   "cell_type": "code",
   "execution_count": 22,
   "id": "776351ea",
   "metadata": {},
   "outputs": [],
   "source": [
    "from qiskit_optimization.translators import from_docplex_mp"
   ]
  },
  {
   "cell_type": "code",
   "execution_count": 23,
   "id": "f13d09f9",
   "metadata": {},
   "outputs": [],
   "source": [
    "mod = from_docplex_mp(mdl)"
   ]
  },
  {
   "cell_type": "code",
   "execution_count": 24,
   "id": "bdb236f3",
   "metadata": {},
   "outputs": [
    {
     "name": "stdout",
     "output_type": "stream",
     "text": [
      "\\ This file has been generated by DOcplex\n",
      "\\ ENCODING=ISO-8859-1\n",
      "\\Problem name: portfolio model\n",
      "\n",
      "Maximize\n",
      " obj: 0.015284386652 x_0 - 0.000780952145 x_1 + 0.000517920547 x_2\n",
      "      + 0.000870005837 x_3 + [ - 0.002541388592 x_0^2 - 0.000146804433 x_0*x_1\n",
      "      - 0.000257201062 x_0*x_2 + 0.000199722426 x_0*x_3 - 0.000258486713 x_1^2\n",
      "      - 0.000106085519 x_1*x_2 - 0.000088963242 x_1*x_3 - 0.000791504681 x_2^2\n",
      "      + 0.000247774763 x_2*x_3 - 0.000197892585 x_3^2 ]/2\n",
      "Subject To\n",
      " budget: x_0 + x_1 + x_2 + x_3 = 2\n",
      "\n",
      "Bounds\n",
      " 0 <= x_0 <= 1\n",
      " 0 <= x_1 <= 1\n",
      " 0 <= x_2 <= 1\n",
      " 0 <= x_3 <= 1\n",
      "\n",
      "Binaries\n",
      " x_0 x_1 x_2 x_3\n",
      "End\n",
      "\n"
     ]
    }
   ],
   "source": [
    "print(mod.export_as_lp_string())"
   ]
  },
  {
   "cell_type": "markdown",
   "id": "5b43b7dc",
   "metadata": {},
   "source": [
    "## QAOA"
   ]
  },
  {
   "cell_type": "code",
   "execution_count": 25,
   "id": "dde9fecc",
   "metadata": {},
   "outputs": [],
   "source": [
    "from qiskit.utils import algorithm_globals, QuantumInstance\n",
    "from qiskit_optimization.algorithms import MinimumEigenOptimizer\n",
    "from qiskit_optimization.converters import QuadraticProgramToQubo\n",
    "from qiskit.algorithms import QAOA\n",
    "from qiskit.algorithms.optimizers import ADAM, COBYLA\n",
    "from qiskit import Aer"
   ]
  },
  {
   "cell_type": "code",
   "execution_count": 26,
   "id": "150b37f8",
   "metadata": {},
   "outputs": [],
   "source": [
    "def index_to_selection(i, num_assets):\n",
    "    s = \"{0:b}\".format(i).rjust(num_assets)\n",
    "    x = np.array([1 if s[i]=='1' else 0 for i in reversed(range(num_assets))])\n",
    "    return x"
   ]
  },
  {
   "cell_type": "code",
   "execution_count": 32,
   "id": "86332f0a",
   "metadata": {},
   "outputs": [],
   "source": [
    "def print_result(result):\n",
    "    selection = result.x\n",
    "    res = list()\n",
    "    for i in range(len(selection)):\n",
    "        if selection[i]:\n",
    "            res.append(stocks[i])\n",
    "    value = result.fval\n",
    "    print('Optimal: selection {}, value {:.4f}'.format(selection, value))\n",
    "    print('Optimal: selected stocks {}'.format(res))\n",
    "\n",
    "    eigenstate = result.min_eigen_solver_result.eigenstate\n",
    "    eigenvector = eigenstate if isinstance(eigenstate, np.ndarray) else eigenstate.to_matrix()\n",
    "    probabilities = np.abs(eigenvector)**2\n",
    "    i_sorted = reversed(np.argsort(probabilities))\n",
    "    print('\\n----------------- Full result ---------------------')\n",
    "    print('selection\\tvalue\\t\\tprobability')\n",
    "    print('---------------------------------------------------')\n",
    "    for i in i_sorted:\n",
    "        x = index_to_selection(i, num_assets)\n",
    "        value = QuadraticProgramToQubo().convert(mod).objective.evaluate(x)\n",
    "        probability = probabilities[i]\n",
    "        print('%10s\\t%.4f\\t\\t%.4f' %(x, value, probability))"
   ]
  },
  {
   "cell_type": "code",
   "execution_count": 33,
   "id": "12ecbe3a",
   "metadata": {},
   "outputs": [
    {
     "name": "stdout",
     "output_type": "stream",
     "text": [
      "Optimal: selection [1. 0. 0. 1.], value 0.0149\n",
      "Optimal: selected stocks ['TICKER0', 'TICKER3']\n",
      "\n",
      "----------------- Full result ---------------------\n",
      "selection\tvalue\t\tprobability\n",
      "---------------------------------------------------\n",
      " [0 1 1 0]\t0.0008\t\t0.1710\n",
      " [0 1 0 1]\t0.0002\t\t0.1707\n",
      " [0 0 1 1]\t-0.0010\t\t0.1700\n",
      " [1 1 0 0]\t-0.0130\t\t0.1632\n",
      " [1 0 1 0]\t-0.0140\t\t0.1627\n",
      " [1 0 0 1]\t-0.0149\t\t0.1621\n",
      " [1 1 1 1]\t4.0656\t\t0.0001\n",
      " [0 0 0 0]\t4.0795\t\t0.0001\n",
      " [0 1 0 0]\t1.0208\t\t0.0000\n",
      " [1 0 1 1]\t1.0049\t\t0.0000\n",
      " [0 0 1 0]\t1.0197\t\t0.0000\n",
      " [0 0 0 1]\t1.0191\t\t0.0000\n",
      " [1 1 0 1]\t1.0060\t\t0.0000\n",
      " [1 1 1 0]\t1.0069\t\t0.0000\n",
      " [0 1 1 1]\t1.0199\t\t0.0000\n",
      " [1 0 0 0]\t1.0059\t\t0.0000\n"
     ]
    }
   ],
   "source": [
    "algorithm_globals.random_seed = 1234\n",
    "backend = Aer.get_backend('statevector_simulator')\n",
    "cobyla = COBYLA()\n",
    "cobyla.set_options(maxiter=250)\n",
    "quantum_instance = QuantumInstance(backend=backend, seed_simulator=seed, seed_transpiler=seed)\n",
    "qaoa_mes = QAOA(optimizer=cobyla, reps=3, quantum_instance=quantum_instance)\n",
    "eigen_optimizer = MinimumEigenOptimizer(min_eigen_solver = qaoa_mes)\n",
    "result = eigen_optimizer.solve(mod)\n",
    "print_result(result)"
   ]
  },
  {
   "cell_type": "markdown",
   "id": "nearby-cover",
   "metadata": {},
   "source": [
    "## If you have any queries on this notebook please reach to me bala.na@hcl.com"
   ]
  }
 ],
 "metadata": {
  "kernelspec": {
   "display_name": "Python 3",
   "language": "python",
   "name": "python3"
  },
  "language_info": {
   "codemirror_mode": {
    "name": "ipython",
    "version": 3
   },
   "file_extension": ".py",
   "mimetype": "text/x-python",
   "name": "python",
   "nbconvert_exporter": "python",
   "pygments_lexer": "ipython3",
   "version": "3.9.2"
  },
  "widgets": {
   "application/vnd.jupyter.widget-state+json": {
    "state": {},
    "version_major": 2,
    "version_minor": 0
   }
  }
 },
 "nbformat": 4,
 "nbformat_minor": 5
}
