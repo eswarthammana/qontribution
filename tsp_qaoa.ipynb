{
 "cells": [
  {
   "cell_type": "markdown",
   "id": "entitled-aquarium",
   "metadata": {},
   "source": [
    "## This notebook is part of self learning Quantum Computing Algorithms"
   ]
  },
  {
   "cell_type": "markdown",
   "id": "c538bacd",
   "metadata": {},
   "source": [
    "## Solve TSP using QAOA "
   ]
  },
  {
   "cell_type": "code",
   "execution_count": 1,
   "id": "6099ddc8",
   "metadata": {},
   "outputs": [],
   "source": [
    "# useful additional packages\n",
    "import networkx as nx\n",
    "import numpy as np\n",
    "\n",
    "from qiskit import Aer\n",
    "from qiskit_optimization.applications import Tsp\n",
    "from qiskit.algorithms import QAOA, NumPyMinimumEigensolver\n",
    "from qiskit.algorithms.optimizers import SPSA\n",
    "from qiskit.utils import algorithm_globals, QuantumInstance\n",
    "from qiskit_optimization.algorithms import MinimumEigenOptimizer\n",
    "from qiskit_optimization.problems import QuadraticProgram\n",
    "from qiskit_optimization.converters import QuadraticProgramToQubo"
   ]
  },
  {
   "cell_type": "code",
   "execution_count": 2,
   "id": "c146598c",
   "metadata": {
    "scrolled": false
   },
   "outputs": [
    {
     "name": "stdout",
     "output_type": "stream",
     "text": [
      "distance\n",
      " [[ 0. 48. 91. 33.]\n",
      " [48.  0. 63. 71.]\n",
      " [91. 63.  0. 92.]\n",
      " [33. 71. 92.  0.]]\n",
      "\n",
      "Exact:\n",
      " optimal function value: 236.0\n",
      "optimal value: [0. 0. 0. 1. 1. 0. 0. 0. 0. 1. 0. 0. 0. 0. 1. 0.]\n",
      "status: SUCCESS\n",
      "\n",
      "Route:\n",
      " [1, 2, 3, 0]\n",
      "\n",
      "QAOA:\n",
      " optimal function value: 236.0\n",
      "optimal value: [0. 1. 0. 0. 0. 0. 1. 0. 0. 0. 0. 1. 1. 0. 0. 0.]\n",
      "status: SUCCESS\n",
      "\n",
      "Route:\n",
      " [1, 2, 3, 0]\n"
     ]
    }
   ],
   "source": [
    "# Generating a TSP instance of n cities\n",
    "n = 4\n",
    "num_qubits = n ** 2\n",
    "ins = Tsp.create_random_instance(n, seed=123)\n",
    "adj_matrix = nx.to_numpy_matrix(ins.graph)\n",
    "print('distance\\n', adj_matrix)\n",
    "\n",
    "# Create a random TSP Hamiltonian\n",
    "qp = ins.to_quadratic_program()\n",
    "\n",
    "\n",
    "algorithm_globals.random_seed = 10598\n",
    "quantum_instance = QuantumInstance(Aer.get_backend('qasm_simulator'), seed_simulator=algorithm_globals.random_seed, seed_transpiler=algorithm_globals.random_seed)\n",
    "qaoa_mes = QAOA(quantum_instance=quantum_instance, initial_point=[0., 0.])\n",
    "exact_mes = NumPyMinimumEigensolver()\n",
    "\n",
    "def route_x(x):\n",
    "    n = int(np.sqrt(len(x)))\n",
    "    route = []\n",
    "    for p__ in range(n):\n",
    "        for i in range(n):\n",
    "            if x[i * n + p__]:\n",
    "                route.append(i)\n",
    "    return route\n",
    "            \n",
    "# solving Quadratic Program using exact classical eigensolver\n",
    "exact = MinimumEigenOptimizer(exact_mes)\n",
    "exact_result = exact.solve(qp)\n",
    "print(\"\\nExact:\\n\", exact_result)\n",
    "print(\"\\nRoute:\\n\", route_x(exact_result.x))\n",
    "\n",
    "# solving the Problem using QAOA\n",
    "qaoa = MinimumEigenOptimizer(qaoa_mes) \n",
    "qaoa_result = qaoa.solve(qp)\n",
    "print(\"\\nQAOA:\\n\", qaoa_result)\n",
    "qaoa_result = np.asarray([int(y) for y in reversed(list(qaoa_result))])\n",
    "print(\"\\nRoute:\\n\", route_x(qaoa_result))"
   ]
  },
  {
   "cell_type": "markdown",
   "id": "8583779b",
   "metadata": {},
   "source": [
    "## Weight Matrix"
   ]
  },
  {
   "cell_type": "code",
   "execution_count": 3,
   "id": "72cd1ff7",
   "metadata": {},
   "outputs": [],
   "source": [
    "\"\"\"\n",
    "array([[68.23518632,  5.38210188],\n",
    "       [22.03598728, 18.43718107],\n",
    "       [17.59059011, 81.20945067],\n",
    "       [92.3344998 , 27.65743978]])\n",
    "ref: https://numpy.org/doc/stable/reference/random/generator.html\n",
    "\"\"\"\n",
    "coordinates = np.random.default_rng(123).uniform(low=0, high=100, size=(4, 2))"
   ]
  },
  {
   "cell_type": "code",
   "execution_count": 4,
   "id": "57787e31",
   "metadata": {},
   "outputs": [],
   "source": [
    "\"\"\"\n",
    "{0: (68.23518632481435, 5.382101880222267), 1: (22.03598727726114, 18.43718106986697), \n",
    "2: (17.590590108503037, 81.20945066557736), 3: (92.33449980270564, 27.657439779710625)}\n",
    "\"\"\"\n",
    "pos = dict()\n",
    "for i, coordinate in enumerate(coordinates):\n",
    "    pos[i] = (coordinate[0], coordinate[1])"
   ]
  },
  {
   "cell_type": "code",
   "execution_count": 5,
   "id": "7b6f0980",
   "metadata": {},
   "outputs": [],
   "source": [
    "\"\"\"\n",
    "ref: https://networkx.org/documentation/latest/reference/generated/networkx.generators.geometric.random_geometric_graph.html\n",
    "\"\"\"\n",
    "high = 100\n",
    "low = 0\n",
    "graph = nx.random_geometric_graph(n=4, radius=np.sqrt((high - low)**2 + (high - low)**2) + 1, pos=pos)"
   ]
  },
  {
   "cell_type": "code",
   "execution_count": 6,
   "id": "b1207a00",
   "metadata": {},
   "outputs": [],
   "source": [
    "\"\"\"\n",
    "graph.edges = EdgeView([(0, 1), (0, 2), (0, 3), (1, 2), (1, 3), (2, 3)])\n",
    "graph.nodes = NodeView((0, 1, 2, 3))\n",
    "ex: graph.nodes[0] = {'pos': (68.23518632481435, 5.382101880222267)}\n",
    "rint (Round elements of the array to the nearest integer)\n",
    "ref : https://numpy.org/doc/stable/reference/generated/numpy.rint.html\n",
    "weights or edges = sqrt((x1 - x2)**2 + (y1 -y2)**2)\n",
    "ref: https://en.wikipedia.org/wiki/Euclidean_distance\n",
    "\"\"\"\n",
    "for w, v in graph.edges:\n",
    "    delta = []\n",
    "    for i in range(2):\n",
    "        delta.append(graph.nodes[w][\"pos\"][i] - graph.nodes[v][\"pos\"][i])\n",
    "    graph.edges[w, v][\"weight\"] = np.rint(np.sqrt(delta[0]**2 + delta[1]**2))"
   ]
  },
  {
   "cell_type": "code",
   "execution_count": 7,
   "id": "00a57d1b",
   "metadata": {
    "scrolled": false
   },
   "outputs": [
    {
     "name": "stdout",
     "output_type": "stream",
     "text": [
      "[[ 0. 48. 91. 33.]\n",
      " [48.  0. 63. 71.]\n",
      " [91. 63.  0. 92.]\n",
      " [33. 71. 92.  0.]]\n"
     ]
    }
   ],
   "source": [
    "\"\"\"\n",
    "graph.adjacency() = holds weights of the graph\n",
    "ex: 0 {1: {'weight': 48.0}, 2: {'weight': 91.0}, 3: {'weight': 33.0}}\n",
    "\n",
    "np.full((4, 4), np.nan) = \n",
    "array([[nan, nan, nan, nan],\n",
    "       [nan, nan, nan, nan],\n",
    "       [nan, nan, nan, nan],\n",
    "       [nan, nan, nan, nan]])\n",
    "index = dict(zip([0, 1, 2, 3], [0, 1, 2, 3]))\n",
    "\"\"\"\n",
    "index = dict(zip(list(graph), range(n)))\n",
    "A = np.full((n, n), np.nan)\n",
    "for u, wdict in graph.adjacency():\n",
    "    for v, d in wdict.items():\n",
    "        A[index[u], index[v]] = d.get(\"weight\", 1)\n",
    "\n",
    "A[np.isnan(A)] = 0.0\n",
    "A = np.asarray(A)\n",
    "M = np.asmatrix(A)\n",
    "print(M)"
   ]
  },
  {
   "cell_type": "code",
   "execution_count": 22,
   "id": "d12ee2e4",
   "metadata": {},
   "outputs": [],
   "source": [
    "import matplotlib.pyplot as plt"
   ]
  },
  {
   "cell_type": "code",
   "execution_count": 23,
   "id": "3edda678",
   "metadata": {
    "scrolled": false
   },
   "outputs": [
    {
     "data": {
      "image/png": "[encoded data removed]",
      "text/plain": [
       "<Figure size 432x288 with 1 Axes>"
      ]
     },
     "metadata": {},
     "output_type": "display_data"
    }
   ],
   "source": [
    "def draw_graph(G, colors, pos):\n",
    "    default_axes = plt.axes(frameon=True)\n",
    "    nx.draw_networkx(G, node_color=colors, node_size=600, alpha=.8, ax=default_axes, pos=pos)\n",
    "    edge_labels = nx.get_edge_attributes(G, 'weight')\n",
    "    nx.draw_networkx_edge_labels(G, pos=pos, edge_labels=edge_labels)\n",
    "    \n",
    "# Draw the graph\n",
    "colors = ['r' for node in graph.nodes]\n",
    "pos = [graph.nodes[node]['pos']  for node in graph.nodes]\n",
    "draw_graph(graph, colors, pos)"
   ]
  },
  {
   "cell_type": "markdown",
   "id": "167b03d6",
   "metadata": {},
   "source": [
    "## Quadratic Program"
   ]
  },
  {
   "cell_type": "code",
   "execution_count": 8,
   "id": "10d676b7",
   "metadata": {},
   "outputs": [],
   "source": [
    "from docplex.mp.model import Model"
   ]
  },
  {
   "cell_type": "code",
   "execution_count": 9,
   "id": "6f3f047b",
   "metadata": {},
   "outputs": [],
   "source": [
    "mdl = Model(name=\"TSP\")"
   ]
  },
  {
   "cell_type": "code",
   "execution_count": 11,
   "id": "1a92edf5",
   "metadata": {},
   "outputs": [
    {
     "name": "stdout",
     "output_type": "stream",
     "text": [
      "{(0, 0): docplex.mp.Var(type=B,name='x_0_0'), (0, 1): docplex.mp.Var(type=B,name='x_0_1'), (0, 2): docplex.mp.Var(type=B,name='x_0_2'), (0, 3): docplex.mp.Var(type=B,name='x_0_3'), (1, 0): docplex.mp.Var(type=B,name='x_1_0'), (1, 1): docplex.mp.Var(type=B,name='x_1_1'), (1, 2): docplex.mp.Var(type=B,name='x_1_2'), (1, 3): docplex.mp.Var(type=B,name='x_1_3'), (2, 0): docplex.mp.Var(type=B,name='x_2_0'), (2, 1): docplex.mp.Var(type=B,name='x_2_1'), (2, 2): docplex.mp.Var(type=B,name='x_2_2'), (2, 3): docplex.mp.Var(type=B,name='x_2_3'), (3, 0): docplex.mp.Var(type=B,name='x_3_0'), (3, 1): docplex.mp.Var(type=B,name='x_3_1'), (3, 2): docplex.mp.Var(type=B,name='x_3_2'), (3, 3): docplex.mp.Var(type=B,name='x_3_3')}\n"
     ]
    }
   ],
   "source": [
    "x = dict()\n",
    "for i in range(n):\n",
    "    for j in range(n):\n",
    "        x[(i, j)] = mdl.binary_var(name=\"x_{0}_{1}\".format(i, j))\n",
    "print(x)"
   ]
  },
  {
   "cell_type": "markdown",
   "id": "1d86883d",
   "metadata": {},
   "source": [
    "## $C\\left(x\\right) = \\sum\\limits_{i=1,j = 1\\\\ i \\ne j}^{n} w_{ij} \\sum\\limits_{p = 1}^{n} x_{i,p} x_{j,p+1}$"
   ]
  },
  {
   "cell_type": "code",
   "execution_count": 12,
   "id": "5b357ec0",
   "metadata": {},
   "outputs": [],
   "source": [
    "C_x = mdl.sum(\n",
    "            M[i, j] * x[(i, k)] * x[(j, (k + 1) % n)]\n",
    "            for i in range(n)\n",
    "            for j in range(n)\n",
    "            for k in range(n)\n",
    "            if i != j\n",
    "        )"
   ]
  },
  {
   "cell_type": "code",
   "execution_count": 13,
   "id": "7162621d",
   "metadata": {},
   "outputs": [],
   "source": [
    "mdl.minimize(C_x)"
   ]
  },
  {
   "cell_type": "markdown",
   "id": "65aeb3e0",
   "metadata": {},
   "source": [
    "## $Constraints \\\\ \\sum\\limits_{i=1}^{n} x_{i,p} = 1,  \\ \\forall p \\\\ \\sum\\limits_{p=1}^{n} x_{i,p} = 1, \\ \\forall i$"
   ]
  },
  {
   "cell_type": "code",
   "execution_count": 14,
   "id": "94f17a06",
   "metadata": {},
   "outputs": [],
   "source": [
    "for i in range(n):\n",
    "    mdl.add_constraint(mdl.sum(x[(i, p)] for p in range(n)) == 1)\n",
    "for p in range(n):\n",
    "    mdl.add_constraint(mdl.sum(x[(i, p)] for i in range(n)) == 1)"
   ]
  },
  {
   "cell_type": "code",
   "execution_count": 16,
   "id": "66e052ca",
   "metadata": {
    "scrolled": true
   },
   "outputs": [
    {
     "name": "stdout",
     "output_type": "stream",
     "text": [
      "\\ This file has been generated by DOcplex\n",
      "\\ ENCODING=ISO-8859-1\n",
      "\\Problem name: TSP\n",
      "\n",
      "Minimize\n",
      " obj: [ 96 x_0_0*x_1_1 + 96 x_0_0*x_1_3 + 182 x_0_0*x_2_1 + 182 x_0_0*x_2_3\n",
      "      + 66 x_0_0*x_3_1 + 66 x_0_0*x_3_3 + 96 x_0_1*x_1_0 + 96 x_0_1*x_1_2\n",
      "      + 182 x_0_1*x_2_0 + 182 x_0_1*x_2_2 + 66 x_0_1*x_3_0 + 66 x_0_1*x_3_2\n",
      "      + 96 x_0_2*x_1_1 + 96 x_0_2*x_1_3 + 182 x_0_2*x_2_1 + 182 x_0_2*x_2_3\n",
      "      + 66 x_0_2*x_3_1 + 66 x_0_2*x_3_3 + 96 x_0_3*x_1_0 + 96 x_0_3*x_1_2\n",
      "      + 182 x_0_3*x_2_0 + 182 x_0_3*x_2_2 + 66 x_0_3*x_3_0 + 66 x_0_3*x_3_2\n",
      "      + 126 x_1_0*x_2_1 + 126 x_1_0*x_2_3 + 142 x_1_0*x_3_1 + 142 x_1_0*x_3_3\n",
      "      + 126 x_1_1*x_2_0 + 126 x_1_1*x_2_2 + 142 x_1_1*x_3_0 + 142 x_1_1*x_3_2\n",
      "      + 126 x_1_2*x_2_1 + 126 x_1_2*x_2_3 + 142 x_1_2*x_3_1 + 142 x_1_2*x_3_3\n",
      "      + 126 x_1_3*x_2_0 + 126 x_1_3*x_2_2 + 142 x_1_3*x_3_0 + 142 x_1_3*x_3_2\n",
      "      + 184 x_2_0*x_3_1 + 184 x_2_0*x_3_3 + 184 x_2_1*x_3_0 + 184 x_2_1*x_3_2\n",
      "      + 184 x_2_2*x_3_1 + 184 x_2_2*x_3_3 + 184 x_2_3*x_3_0 + 184 x_2_3*x_3_2\n",
      "      ]/2\n",
      "Subject To\n",
      " c0: x_0_0 + x_0_1 + x_0_2 + x_0_3 = 1\n",
      " c1: x_1_0 + x_1_1 + x_1_2 + x_1_3 = 1\n",
      " c2: x_2_0 + x_2_1 + x_2_2 + x_2_3 = 1\n",
      " c3: x_3_0 + x_3_1 + x_3_2 + x_3_3 = 1\n",
      " c4: x_0_0 + x_1_0 + x_2_0 + x_3_0 = 1\n",
      " c5: x_0_1 + x_1_1 + x_2_1 + x_3_1 = 1\n",
      " c6: x_0_2 + x_1_2 + x_2_2 + x_3_2 = 1\n",
      " c7: x_0_3 + x_1_3 + x_2_3 + x_3_3 = 1\n",
      "\n",
      "Bounds\n",
      " 0 <= x_0_0 <= 1\n",
      " 0 <= x_0_1 <= 1\n",
      " 0 <= x_0_2 <= 1\n",
      " 0 <= x_0_3 <= 1\n",
      " 0 <= x_1_0 <= 1\n",
      " 0 <= x_1_1 <= 1\n",
      " 0 <= x_1_2 <= 1\n",
      " 0 <= x_1_3 <= 1\n",
      " 0 <= x_2_0 <= 1\n",
      " 0 <= x_2_1 <= 1\n",
      " 0 <= x_2_2 <= 1\n",
      " 0 <= x_2_3 <= 1\n",
      " 0 <= x_3_0 <= 1\n",
      " 0 <= x_3_1 <= 1\n",
      " 0 <= x_3_2 <= 1\n",
      " 0 <= x_3_3 <= 1\n",
      "\n",
      "Binaries\n",
      " x_0_0 x_0_1 x_0_2 x_0_3 x_1_0 x_1_1 x_1_2 x_1_3 x_2_0 x_2_1 x_2_2 x_2_3 x_3_0\n",
      " x_3_1 x_3_2 x_3_3\n",
      "End\n",
      "\n"
     ]
    }
   ],
   "source": [
    "\"\"\"\n",
    "DoCPLEX to Quadratic\n",
    "# Convert inequality constraints into equality constraints by adding slack variables\n",
    "# Map integer variables to binary variables\n",
    "# Penalize linear equality constraints with only binary variables\n",
    "\"\"\"\n",
    "mod = QuadraticProgram()\n",
    "mod.from_docplex(mdl)"
   ]
  },
  {
   "cell_type": "code",
   "execution_count": 19,
   "id": "f78e62a3",
   "metadata": {},
   "outputs": [],
   "source": [
    "#Convert binary to integer for the paths\n",
    "def route_x(x):\n",
    "    n = int(np.sqrt(len(x)))\n",
    "    route = []\n",
    "    for p__ in range(n):\n",
    "        for i in range(n):\n",
    "            if x[i * n + p__]:\n",
    "                route.append(i)\n",
    "    return route"
   ]
  },
  {
   "cell_type": "code",
   "execution_count": 20,
   "id": "22331bf2",
   "metadata": {},
   "outputs": [
    {
     "name": "stdout",
     "output_type": "stream",
     "text": [
      "\n",
      "QAOA:\n",
      " optimal function value: 236.0\n",
      "optimal value: [0. 1. 0. 0. 0. 0. 1. 0. 0. 0. 0. 1. 1. 0. 0. 0.]\n",
      "status: SUCCESS\n",
      "\n",
      "Route:\n",
      " [1, 2, 3, 0]\n"
     ]
    }
   ],
   "source": [
    "algorithm_globals.random_seed = 10598\n",
    "quantum_instance = QuantumInstance(Aer.get_backend('qasm_simulator'), seed_simulator=algorithm_globals.random_seed, seed_transpiler=algorithm_globals.random_seed)\n",
    "qaoa_mes = QAOA(quantum_instance=quantum_instance, initial_point=[0., 0.])\n",
    "# solving the Problem using QAOA\n",
    "qaoa = MinimumEigenOptimizer(qaoa_mes) \n",
    "qaoa_result = qaoa.solve(mod)\n",
    "print(\"\\nQAOA:\\n\", qaoa_result)\n",
    "qaoa_result = np.asarray([int(y) for y in reversed(list(qaoa_result))])\n",
    "print(\"\\nRoute:\\n\", route_x(qaoa_result))"
   ]
  },
  {
   "cell_type": "markdown",
   "id": "detailed-hometown",
   "metadata": {},
   "source": [
    "## If you have any queries on this notebook please reach to me bala.na@hcl.com"
   ]
  }
 ],
 "metadata": {
  "kernelspec": {
   "display_name": "Python 3",
   "language": "python",
   "name": "python3"
  },
  "language_info": {
   "codemirror_mode": {
    "name": "ipython",
    "version": 3
   },
   "file_extension": ".py",
   "mimetype": "text/x-python",
   "name": "python",
   "nbconvert_exporter": "python",
   "pygments_lexer": "ipython3",
   "version": "3.9.2"
  }
 },
 "nbformat": 4,
 "nbformat_minor": 5
}
